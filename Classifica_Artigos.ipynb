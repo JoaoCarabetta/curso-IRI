{
 "cells": [
  {
   "cell_type": "markdown",
   "metadata": {},
   "source": [
    "#Classificação de artigos do MediaCloud usando GMM e DPGMM\n",
    "\n",
    "Neste Notebook vamos aplicar um classificador não supervisionado a uma coleção de artigos extraída do índice do MediaCloud, usando Dirichlet Process Gaussian Mixture models, do Scikit-Learn.\n",
    "http://scikit-learn.org/stable/auto_examples/mixture/plot_gmm.html#example-mixture-plot-gmm-py\n",
    "\n",
    "Vamos também explorar técnicas de Deep learning usando word2vec do pacote gensim:\n",
    "http://radimrehurek.com/gensim/models/word2vec.html\n",
    "\n",
    "uma explicação mais detalhada da metodologia do word2vec pode ser encontrada aqui:\n",
    "https://code.google.com/p/word2vec/\n"
   ]
  },
  {
   "cell_type": "code",
   "execution_count": 4,
   "metadata": {
    "collapsed": false
   },
   "outputs": [],
   "source": [
    "import json\n",
    "import os\n",
    "import gensim\n",
    "import pymysql\n",
    "import nltk # para tokenização de sentenças\n",
    "from pymongo import MongoClient\n",
    "from string import punctuation, digits\n",
    "import bs4\n",
    "from sklearn import mixture\n",
    "import datetime\n",
    "import pandas as pd"
   ]
  },
  {
   "cell_type": "code",
   "execution_count": 5,
   "metadata": {
    "collapsed": false
   },
   "outputs": [
    {
     "name": "stdout",
     "output_type": "stream",
     "text": [
      "Populating the interactive namespace from numpy and matplotlib\n"
     ]
    }
   ],
   "source": [
    "%pylab inline"
   ]
  },
  {
   "cell_type": "markdown",
   "metadata": {},
   "source": [
    "Primeiro vamos definir uma função para busca no índice:"
   ]
  },
  {
   "cell_type": "code",
   "execution_count": 6,
   "metadata": {
    "collapsed": false
   },
   "outputs": [],
   "source": [
    "def sphinx_query(index_name, query=\"\", facet=None):\n",
    "    \"\"\"\n",
    "    Search Sphinx index using a simple match via SphinxQL\n",
    "    :param index_name: Name of the index to search on\n",
    "    :param query: String with the query expression\n",
    "    :param facet: Attribute name to facet by. Must be a list\n",
    "    :return: JSON (array of objects)\n",
    "    \"\"\"\n",
    "    try:\n",
    "        assert index_name in ['mediacloud_articles', 'mediacloud_feeds', 'mediacloud_tweets']\n",
    "    except AssertionError:\n",
    "        return json.dumps({\"error\": \"Bad index name: {}\".format(index_name)})\n",
    "    \n",
    "\n",
    "    # Setup Sphinxsearch SphinxQL connection\n",
    "    sphinx_conn = pymysql.connect(host='200.20.164.152', port=9306)\n",
    "    cursor = sphinx_conn.cursor(pymysql.cursors.DictCursor)\n",
    "\n",
    "    if facet is None:\n",
    "        cursor.execute(\"SELECT * from \" + index_name + \" WHERE MATCH(%(query)s) \"\n",
    "                \"LIMIT %(limit)s OPTION max_matches=%(limit)s\",\n",
    "                    {'query': query, 'limit': 100000})\n",
    "    else:\n",
    "        cursor.execute(\"SELECT * from \"+index_name+\" WHERE MATCH(%s) \" + \" \".join([\"FACET {}\".format(f) for f in facet]),\n",
    "                       (query,))\n",
    "    results = cursor.fetchall()\n",
    "    cursor.close()\n",
    "    \n",
    "    return json.dumps(results)\n"
   ]
  },
  {
   "cell_type": "code",
   "execution_count": 8,
   "metadata": {
    "collapsed": false
   },
   "outputs": [
    {
     "name": "stdout",
     "output_type": "stream",
     "text": [
      "2467 resultados retidos\n"
     ]
    }
   ],
   "source": [
    "consulta = 'Marina silva'\n",
    "res = sphinx_query(\"mediacloud_articles\",'\"{}\" '.format(consulta))\n",
    "res = json.loads(res)\n",
    "# retemos apenas as entradas que contém sumários\n",
    "#filtramos também por datas\n",
    "data_ini = datetime.datetime(2014,8,10,0,0,0)\n",
    "data_fim = datetime.datetime(2014,8,28,0,0,0)\n",
    "res = [d for d in res if  datetime.datetime.fromtimestamp(d['published'])> data_ini and datetime.datetime.fromtimestamp(d['published']) <= data_fim]\n",
    "print(\"{} resultados retidos\".format(len(res)))"
   ]
  },
  {
   "cell_type": "code",
   "execution_count": 9,
   "metadata": {
    "collapsed": false
   },
   "outputs": [
    {
     "data": {
      "text/plain": [
       "[{'id': 944080,\n",
       "  'summary': '<div class=\"field content-taxonomy field-categoria-noticia\">\\n                                <h3 class=\"label inline\">Categoria:&nbsp;</h3>\\n          <div class=\"item inline odd\">Eleições</div>\\n         <h5 class=\"description\"></h5>\\n              </div>\\n <!-- /content-field -->\\n <!-- /content-field -->\\n <!-- /content-field -->\\n<p><img alt=\"\" src=\"http://og.infg.com.br/in/12757943-f0f-c71/FT1086A/420/GetContentCA9VS5MB.jpg\" style=\"width: 500px; height: 300px;\" /></p>\\n<p><strong>Jornal GGN </strong>- Sai na próxima semana a decisão sobre quem o PSB lançará como candidato a presidente no lugar de Eduardo Campos, morto em acidente aéreo no último dia 13. Marina Silva é a favorita pelo recall que tem junto ao eleitorado desde a eleição de 2010.</p>\\n<p>Mas Marina, desde que ingressou no PSB, deixou claro que esse arranjo é provisório. Dura até que a Rede Sustentabilidade saia do papel. Diante do impasse sobre o futuro da chapa em 2014, fica a pergunta: será que o PSB vai conseguir impôr todas as suas condições à Marina e se consagrar como o partido representativo da terceira via no país, ou a figura Marina Silva vai se sobressair sobre o PSB?&nbsp;</p>\\n<p></p><p><a href=\"http://jornalggn.com.br/noticia/marina-silva-e-psb-quem-engole-quem\" target=\"_blank\">leia mais</a></p>',\n",
       "  'title': 'Marina Silva e PSB: quem engole quem?',\n",
       "  'published': 1408291270,\n",
       "  'db': '',\n",
       "  'link': 'http://jornalggn.com.br/noticia/marina-silva-e-psb-quem-engole-quem',\n",
       "  '_id': '53f0a8d0dcccdd842bd1936c',\n",
       "  'collection': '',\n",
       "  'links': '{\"links\":[{\"href\":\"http:\\\\/\\\\/jornalggn.com.br\\\\/noticia\\\\/marina-silva-e-psb-quem-engole-quem\",\"type\":\"text\\\\/html\",\"rel\":\"alternate\"}]}',\n",
       "  'language': 'pt',\n",
       "  '._id': '53f0a8d0dcccdd842bd1936c'},\n",
       " {'id': 985401,\n",
       "  'summary': '<p>Benedito Tadeu César* A campanha no rádio e na TV já começou há uma semana e Aécio Neves ainda não disse a que veio. Além de se apresentar ao eleitorado, não fez quase mais nada. Dá a impressão de estar paralisado diante do avanço de Marina Silva. Enquanto Aécio Neves apresenta-se com uma imagem de [&#8230;]</p>\\n<p>The post <a href=\"http://www.sul21.com.br/jornal/e-aecio-vai-descer-do-muro-e-disputar-com-marina-silva/\" rel=\"nofollow\">E Aécio, vai descer do muro e disputar com Marina Silva?</a> appeared first on <a href=\"http://www.sul21.com.br/jornal\" rel=\"nofollow\">Sul 21</a>.</p>',\n",
       "  'title': 'E Aécio, vai descer do muro e disputar com Marina Silva?',\n",
       "  'published': 1409084608,\n",
       "  'db': '',\n",
       "  'link': 'http://www.sul21.com.br/jornal/e-aecio-vai-descer-do-muro-e-disputar-com-marina-silva/',\n",
       "  '_id': '53fcc487dcccdd5969d2fd9c',\n",
       "  'collection': '',\n",
       "  'links': '{\"links\":[{\"href\":\"http:\\\\/\\\\/www.sul21.com.br\\\\/jornal\\\\/e-aecio-vai-descer-do-muro-e-disputar-com-marina-silva\\\\/\",\"type\":\"text\\\\/html\",\"rel\":\"alternate\"}]}',\n",
       "  'language': 'pt',\n",
       "  '._id': '53fcc487dcccdd5969d2fd9c'},\n",
       " {'id': 931059,\n",
       "  'summary': 'O consultor pol&iacute;tico Vitor Oliveira e o cientista pol&iacute;tico F&aacute;bio Ostermann tra&ccedil;aram o deram entrevista ao InfoMoney e destacaram cen&aacute;rio para Marina Silva',\n",
       "  'title': '\"PSB caiu no colo de Marina Silva\"; mas será que ela tem a cara do partido?',\n",
       "  'published': 1408052040,\n",
       "  'db': '',\n",
       "  'link': 'http://www.infomoney.com.br//mercados/eleicoes/noticia/3515587/psb-caiu-colo-marina-silva-mas-sera-que-ela-tem',\n",
       "  '_id': '53ed03b9dcccdd25bf76b41a',\n",
       "  'collection': '',\n",
       "  'links': '{\"links\":[{\"href\":\"http:\\\\/\\\\/www.infomoney.com.br\\\\/\\\\/mercados\\\\/eleicoes\\\\/noticia\\\\/3515587\\\\/psb-caiu-colo-marina-silva-mas-sera-que-ela-tem\",\"type\":\"text\\\\/html\",\"rel\":\"alternate\"}]}',\n",
       "  'language': 'pt',\n",
       "  '._id': '53ed03b9dcccdd25bf76b41a'}]"
      ]
     },
     "execution_count": 9,
     "metadata": {},
     "output_type": "execute_result"
    }
   ],
   "source": [
    "res[:3]"
   ]
  },
  {
   "cell_type": "markdown",
   "metadata": {},
   "source": [
    "Exportando a série Temporal"
   ]
  },
  {
   "cell_type": "code",
   "execution_count": 10,
   "metadata": {
    "collapsed": false
   },
   "outputs": [
    {
     "name": "stderr",
     "output_type": "stream",
     "text": [
      "/usr/lib/python3/dist-packages/IPython/kernel/__main__.py:1: FutureWarning: TimeSeries is deprecated. Please use Series\n",
      "  if __name__ == '__main__':\n"
     ]
    },
    {
     "data": {
      "text/plain": [
       "<matplotlib.axes._subplots.AxesSubplot at 0x7f0d16bdc9e8>"
      ]
     },
     "execution_count": 10,
     "metadata": {},
     "output_type": "execute_result"
    },
    {
     "data": {
      "image/png": "[encoded data removed]",
      "text/plain": [
       "<matplotlib.figure.Figure at 0x7f0d16e5e630>"
      ]
     },
     "metadata": {},
     "output_type": "display_data"
    }
   ],
   "source": [
    "ts = pd.TimeSeries(data=np.ones(len(res)),index=[datetime.datetime.fromtimestamp(d['published']) for d in res])\n",
    "#ts['Count']=1\n",
    "rts=ts.resample('h',how=\"sum\")\n",
    "rts.plot();\n",
    "#rts.to_csv('{}+filha;filho;renata;miguel_porhora_noticias.csv'.format(consulta))"
   ]
  },
  {
   "cell_type": "code",
   "execution_count": null,
   "metadata": {
    "collapsed": false
   },
   "outputs": [],
   "source": []
  },
  {
   "cell_type": "markdown",
   "metadata": {},
   "source": [
    "Vamos agora construir um corpus só com os sumários"
   ]
  },
  {
   "cell_type": "code",
   "execution_count": 11,
   "metadata": {
    "collapsed": false
   },
   "outputs": [
    {
     "name": "stderr",
     "output_type": "stream",
     "text": [
      "/usr/lib/python3/dist-packages/bs4/__init__.py:166: UserWarning: No parser was explicitly specified, so I'm using the best available HTML parser for this system (\"lxml\"). This usually isn't a problem, but if you run this code on another system, or in a different virtual environment, it may use a different parser and behave differently.\n",
      "\n",
      "To get rid of this warning, change this:\n",
      "\n",
      " BeautifulSoup([your markup])\n",
      "\n",
      "to this:\n",
      "\n",
      " BeautifulSoup([your markup], \"lxml\")\n",
      "\n",
      "  markup_type=markup_type))\n"
     ]
    }
   ],
   "source": [
    "docs = [bs4.BeautifulSoup(d['summary']).get_text() for d in res]"
   ]
  },
  {
   "cell_type": "markdown",
   "metadata": {},
   "source": [
    "Antes de poder aplicar o word2vec, precisamos criar um banco de frases que são a matéria prima do word2vec. Vamos armazenar estas frases em um banco Mongodb para facilitar a iteração sobre as frases."
   ]
  },
  {
   "cell_type": "markdown",
   "metadata": {},
   "source": [
    "Cada Documento dividido em frases se converte na seguinte lista:"
   ]
  },
  {
   "cell_type": "code",
   "execution_count": 8,
   "metadata": {
    "collapsed": false
   },
   "outputs": [
    {
     "data": {
      "text/plain": [
       "[u'  E AGORA MARINA SILVA ?',\n",
       " u'VICE NA CHAPA DE GERALDO ALCKMIN DIZ QUE \\xc9 MARINA QUEM PRECISA DO PSB\"ELA N\\xc3O PARTICIPA DE NADA NEM SABE O PRE\\xc7O DO ALUGUEL DE UM COMIT\\xca ELEITORAL\" - M\\xe1rcio Fran\\xe7a / PSB-SPO PSB de S\\xe3o Paulo n\\xe3o parece muito interessado na quest\\xe3o nacional  do Partido, que tem de substituir Eduardo Campos, falecido em tr\\xe1gico  acidente de avi\\xe3o ocorrido na \\xfaltima Quarta-Feira.',\n",
       " u\"Marina Silva, ao que  tudo indica, ser\\xe1 a nova cabe\\xe7a de chapa do partido socialista, mas, as  resist\\xeancias ao seu nome, e principalmente as condi\\xe7\\xf5es que j\\xe1 est\\xe3o  sendo colocadas na mesa de negocia\\xe7\\xe3o para \\xa0que ela assuma a  candidatura, est\\xe3o crescendo na medida em que o tempo passa, e os  interesses eleitorais se sobrep\\xf5e ao impacto do acidente e perplexidade  perante a perda do ex-governador e at\\xe9 ent\\xe3o candidato \\xe0 presid\\xeancia,  Eduardo Campos.Coube ao membro do PSB de S\\xe3o Paulo, que \\xe9 o candidato a vice na  chapa de Geraldo Alckmin (PSDB), colocar de forma bastante DURA e at\\xe9  agressiva, como Marina Silva DEVE se COMPORTAR de agora em diante.Segundo mat\\xe9ria de O Globo, M\\xe1rcio Fran\\xe7a, que \\xe9 o TESOUREIRO da Campanha presidencial do PSB, disse o seguinte:\\u2018Marina faz pol\\xedtica de um jeito que n\\xe3o \\xe9 o nosso\\u2019,'Agora \\xe9 o PSB que ter\\xe1 cr\\xe9dito por aceit\\xe1-la como candidata''\\xc9 o mundo real que tem de ser colocado  para que ela fa\\xe7a sua escolha.\",\n",
       " u'Seria injusto coloc\\xe1-la como candidata  sem que saiba.',\n",
       " u'Marina n\\xe3o era respons\\xe1vel por nada na campanha.',\n",
       " u\"Ela n\\xe3o  sabe nem quanto custa o aluguel do comit\\xea'\\xa0'Ela tem de nos acolher e temos de  acolh\\xea-la.\",\n",
       " u'Antes ela criou cr\\xe9dito, pois era a mais famosa.',\n",
       " u'Neste  instante, criou o d\\xe9bito.',\n",
       " u'N\\xf3s \\xe9 que iremos acolh\\xea-la para ser candidata a  presidente.',\n",
       " u\"Agora ela se torna nossa candidata para dirigir o pa\\xeds''Todos concordam que ela tem de ser a  pessoa, em fun\\xe7\\xe3o da express\\xe3o de votos e do gesto generoso dela, que  aceitou sair como vice.\",\n",
       " u'Mas para ser a candidata da coliga\\xe7\\xe3o ela tem de  ter o discurso da coliga\\xe7\\xe3o, n\\xe3o da Rede.',\n",
       " u\"Como candidata, Marina fazia o  que bem entendia'.ENT\\xc3O...As diferen\\xe7as entre MARINA SILVA/REDE e o PSB, que eram contornadas e  minimizadas por Eduardo Campos, interessado nos poss\\xedveis votos que a  ex-senadora e uma das lideran\\xe7as no campo do Meio-Ambiente, poderia lhe  transferir, ficam agora mais expostas.\",\n",
       " u'Com pouca ou nenhuma sutileza, os  l\\xedderes do PSB est\\xe3o dizendo para Marina que, a eles, n\\xe3o interessa  ganhar a elei\\xe7\\xe3o e n\\xe3o assumir de fato o poder.O FUTURO de Marina Silva eleita, estaria assim selado.',\n",
       " u'Ela ser\\xe1  taxada de \"traidora dos compromissos assumidos\", ou ent\\xe3o ser\\xe1 rotulada  como \"TUTELADA\".A POL\\xcdTICA continua desafiando a capacidade dos homens preverem o futuro.Postado por  BONDeblog S. O.\\xe0s  08:49Rea\\xe7\\xf5es:\\xa0Nenhum coment\\xe1rio:     Links para esta postagem Enviar por e-mailBlogThis!Compartilhar no TwitterCompartilhar no FacebookCompartilhar no OrkutCompartilhar com o PinterestMarcadores: AN\\xc1LISE POL\\xcdTICA, Eduardo Campos, elei\\xe7\\xe3o 2014, marina silva, PSB, REDE SUSTENTABILIDADE\\xa0Do 007BONDeblog.\\xa0 ']"
      ]
     },
     "execution_count": 8,
     "metadata": {},
     "output_type": "execute_result"
    }
   ],
   "source": [
    "nltk.tokenize.sent_tokenize(docs[1])"
   ]
  },
  {
   "cell_type": "code",
   "execution_count": 7,
   "metadata": {
    "collapsed": false
   },
   "outputs": [],
   "source": [
    "#criando um banco com as frases:\n",
    "client = MongoClient()\n",
    "db = client.word2vec\n",
    "db.drop_collection('frases')\n",
    "\n",
    "frases = db.frases\n",
    "for n,doc in enumerate(docs):\n",
    "    frases.insert({'doc': n, 'frases':nltk.tokenize.sent_tokenize(doc)})\n"
   ]
  },
  {
   "cell_type": "markdown",
   "metadata": {},
   "source": [
    "Agora vamos escrever um gerador que retorne uma frase de cada vez, como uma lista de tokens. mas antes vamos reduzir as palavras para minúsculas."
   ]
  },
  {
   "cell_type": "code",
   "execution_count": 8,
   "metadata": {
    "collapsed": false
   },
   "outputs": [],
   "source": [
    "sw = nltk.corpus.stopwords.words('portuguese') + list(punctuation) + ['r',u'não',u'é', u'à','quarta','feira', \n",
    "                                                          u'até', u'já', ')','(','\"','\\'','...', \n",
    "                                                          'nesta', 'leia','quinta', 'foto',u'terça',\n",
    "                                                          'dub','diz','dia',u'está','sexta', u'\\u2022', '']\n",
    "def get_sentences():\n",
    "    for doc in frases.find({}):\n",
    "        for f in doc['frases']:\n",
    "            yield [w.strip().strip(punctuation).strip(digits).lower() for w in f.split() if w not in sw]\n",
    "        "
   ]
  },
  {
   "cell_type": "code",
   "execution_count": 9,
   "metadata": {
    "collapsed": false
   },
   "outputs": [
    {
     "name": "stderr",
     "output_type": "stream",
     "text": [
      "-c:8: UnicodeWarning: Unicode equal comparison failed to convert both arguments to Unicode - interpreting them as being unequal\n"
     ]
    }
   ],
   "source": [
    "sentences = get_sentences()\n",
    "model = gensim.models.Word2Vec(sentences, min_count=15, size=5000, workers=8)"
   ]
  },
  {
   "cell_type": "code",
   "execution_count": 39,
   "metadata": {
    "collapsed": false
   },
   "outputs": [
    {
     "data": {
      "text/plain": [
       "array([  5.23893279e-04,   1.79088038e-05,   1.05028019e-04,\n",
       "         2.29172118e-04,   2.95586302e-04,   7.58165203e-04,\n",
       "        -5.76344319e-04,   2.38053588e-04,   5.28062810e-05,\n",
       "         1.92863081e-04,   5.85806207e-04,   7.97907705e-04,\n",
       "         9.24295513e-04,   8.21865979e-04,  -9.21872561e-04,\n",
       "        -9.73194081e-04,   2.61064735e-04,  -7.43841345e-04,\n",
       "         3.51673807e-04,  -3.75185453e-04,   8.89859628e-04,\n",
       "         6.00494270e-04,   6.72011229e-05,  -1.55870031e-04,\n",
       "        -1.72735075e-04,   4.95197164e-05,  -6.47866807e-04,\n",
       "         9.84237646e-04,  -6.03786204e-04,  -8.39359200e-05,\n",
       "         2.75766390e-04,  -1.89963670e-04,  -5.39175526e-04,\n",
       "         5.62078203e-04,   1.19242177e-04,   2.42233567e-04,\n",
       "         7.56517285e-04,  -6.19249622e-05,   2.87531933e-04,\n",
       "        -9.46478627e-04,  -1.06012034e-04,  -5.92135708e-04,\n",
       "        -3.77774268e-04,   2.74946186e-04,   3.78991885e-04,\n",
       "         1.86964171e-04,  -7.96205422e-04,  -3.42984742e-04,\n",
       "         4.47301900e-05,  -5.60187618e-05,  -6.73043716e-04,\n",
       "         8.87513044e-04,   5.59889922e-05,  -4.94957087e-04,\n",
       "        -4.20221884e-04,  -4.25604056e-04,  -2.97181454e-04,\n",
       "        -9.36319528e-04,   2.97970750e-04,  -7.75025750e-04,\n",
       "        -5.46723837e-04,   4.66827158e-04,  -9.53426468e-04,\n",
       "        -7.10491207e-04,   9.51222144e-04,  -9.72778653e-04,\n",
       "        -4.83788550e-04,  -1.42255609e-04,  -9.21887113e-04,\n",
       "         3.70483322e-04,  -6.99955039e-04,   5.11854596e-04,\n",
       "         3.92803049e-04,   7.62677169e-04,  -9.29975242e-04,\n",
       "        -2.17419336e-04,  -5.55085717e-04,  -8.71628814e-04,\n",
       "         1.87643469e-04,  -1.73587803e-04,  -9.73289774e-04,\n",
       "         1.63087359e-04,  -2.43098024e-04,  -2.15552544e-04,\n",
       "         3.71303759e-04,  -6.09576644e-04,  -7.31920183e-04,\n",
       "        -6.11542084e-04,  -7.44074408e-04,   2.18918158e-05,\n",
       "         4.49464191e-04,  -3.86785629e-04,  -5.92068711e-04,\n",
       "        -3.84862622e-04,   8.57815554e-04,  -3.78661673e-04,\n",
       "         4.16958967e-04,  -9.89507171e-05,  -6.98351068e-04,\n",
       "         9.51259572e-04,   9.57804907e-04,   5.80066815e-04,\n",
       "        -5.89028059e-04,   9.40719503e-04,  -4.29141044e-04,\n",
       "        -2.08327911e-04,   7.55751040e-04,   2.69514567e-04,\n",
       "        -5.46889823e-05,  -9.61516111e-04,   7.81890878e-04,\n",
       "        -4.69731385e-05,   3.19411833e-04,  -9.29796253e-04,\n",
       "         1.92499283e-05,  -6.21327723e-04,  -6.04629931e-05,\n",
       "        -4.94555978e-04,   4.71509906e-04,   9.83222621e-04,\n",
       "        -2.58649059e-04,  -9.96271265e-05,   1.59290881e-04,\n",
       "        -3.03994195e-04,  -6.25954242e-04,  -3.51568335e-04,\n",
       "         5.74506936e-04,   8.57352919e-04,   5.89576259e-04,\n",
       "         4.20273573e-04,   9.21050785e-04,  -1.77620877e-05,\n",
       "         9.89018357e-04,   8.74065794e-04,  -6.86237618e-05,\n",
       "        -2.15866865e-04,  -9.74479597e-04,   7.10288587e-04,\n",
       "        -5.35184634e-04,   5.59966611e-05,   5.84039954e-04,\n",
       "        -2.49185279e-04,  -2.92311946e-04,  -2.59064924e-04,\n",
       "         4.24475322e-04,   8.64766935e-06,  -8.80346401e-04,\n",
       "        -4.65822290e-04,   1.46741237e-04,   3.56685021e-04,\n",
       "        -9.26185690e-04,   8.34594131e-04,  -1.06989930e-04,\n",
       "         5.44855080e-04,   3.64181236e-04,  -3.47429042e-04,\n",
       "        -3.72369832e-04,  -2.97406397e-04,   2.06150420e-04,\n",
       "         5.87075949e-04,  -6.64789637e-04,   4.28912084e-04,\n",
       "         8.58307991e-04,  -1.75266177e-04,   8.79928120e-04,\n",
       "        -1.89004364e-04,   8.81552769e-05,   6.36734185e-04,\n",
       "        -9.68277920e-04,   3.11788055e-04,   7.57886912e-04,\n",
       "         9.34953569e-04,  -2.47946911e-04,   1.53302171e-04,\n",
       "         5.97478996e-04,  -2.53253616e-04,   2.29312325e-04,\n",
       "        -7.50559208e-04,  -4.87921934e-04,  -4.14028909e-04,\n",
       "        -5.06650948e-04,   2.76281789e-04,   6.19143364e-04,\n",
       "         7.88605132e-04,   4.47717117e-04,  -2.03682648e-05,\n",
       "         6.34617638e-04,  -7.54247303e-04,  -7.52443273e-04,\n",
       "        -8.73103854e-04,   6.21452127e-05,  -5.08156954e-05,\n",
       "         8.97634774e-04,   2.89845339e-05,  -2.17704364e-04,\n",
       "        -7.50960491e-04,  -3.41716484e-04,  -7.68916681e-04,\n",
       "        -6.71162736e-04,  -3.69461253e-04,  -7.34252390e-04,\n",
       "         6.76503187e-05,  -5.32741135e-04,   9.02711647e-04,\n",
       "        -7.41690514e-04,   6.65260712e-04,  -2.43696741e-05,\n",
       "         2.43325630e-04,   8.59927793e-04,  -2.57895910e-04,\n",
       "         4.33875772e-04,   9.13934127e-05,   3.34309239e-04,\n",
       "        -5.05356642e-04,  -5.71637764e-04,   8.73375568e-04,\n",
       "        -6.22097927e-04,   6.62013423e-04,  -5.84099791e-04,\n",
       "         5.39807836e-04,  -7.19183154e-05,   3.56500794e-04,\n",
       "        -7.26707804e-04,   2.51671969e-04,  -4.75059729e-04,\n",
       "         8.18891858e-04,   3.77306096e-05,  -2.10286249e-04,\n",
       "        -1.71941210e-04,  -6.33325311e-04,   5.15134052e-05,\n",
       "         9.20835766e-04,   5.67668234e-04,   9.32389812e-04,\n",
       "        -5.80465596e-04,  -8.78936728e-04,   4.44262143e-04,\n",
       "         9.24268854e-04,  -9.29471804e-04,  -8.20283021e-04,\n",
       "         4.29955369e-04,  -9.25454151e-05,  -3.76301381e-04,\n",
       "        -1.21094738e-04,  -1.83412179e-04,   9.85971186e-04,\n",
       "        -1.77519105e-05,   3.61571438e-04,   3.76928831e-04,\n",
       "        -1.78786038e-04,  -2.99936946e-04,   7.58341455e-04,\n",
       "        -3.24279790e-05,  -5.54069178e-04,   5.28737786e-04,\n",
       "         7.65940640e-04,   6.73771370e-04,  -2.17277229e-05,\n",
       "        -4.08445223e-04,   9.27292043e-04,  -5.20134403e-04,\n",
       "        -5.85513306e-04,   9.91150737e-04,  -1.41596436e-04,\n",
       "        -2.82345078e-04,  -4.37668175e-04,  -4.01786150e-04,\n",
       "        -9.28851659e-04,   6.12151169e-04,   3.84094601e-04,\n",
       "        -7.67542049e-04,  -4.04195773e-04,  -3.72379145e-04,\n",
       "         5.57815583e-05,   1.37700437e-04,  -7.71536434e-04,\n",
       "         9.28500551e-04,  -1.35422393e-04,  -5.94689453e-04,\n",
       "        -8.93246965e-04,   4.39988158e-04,   9.60051548e-04,\n",
       "         5.05677774e-04,  -2.02398496e-06,  -5.64724207e-04,\n",
       "        -1.56770577e-04,  -8.34278471e-04,  -4.16954572e-05,\n",
       "         4.45764803e-04,   4.32301138e-04,  -1.40444768e-04,\n",
       "         2.33138242e-04,  -1.95687408e-05,  -3.13134078e-04,\n",
       "        -7.02400401e-04,  -9.13420052e-04,   4.98964218e-04,\n",
       "        -1.78242539e-04,   5.99061023e-04,  -1.87499798e-04,\n",
       "         9.51521331e-04,   5.02253941e-04,  -4.60130395e-04,\n",
       "        -6.74830109e-04,   6.50300295e-04,   8.95398378e-04,\n",
       "         7.52736523e-04,  -3.91425972e-04,  -2.90023454e-04,\n",
       "         6.16393227e-05,  -4.96709137e-04,  -9.10982606e-04,\n",
       "        -6.82570215e-04,   5.81153261e-04,   4.12369496e-04,\n",
       "         1.97709815e-04,  -4.03406564e-04,  -1.53987843e-04,\n",
       "         2.78030522e-04,  -7.57803849e-04,   7.15100730e-04,\n",
       "         3.98327364e-04,  -6.57645229e-04,   4.42969293e-04,\n",
       "        -6.36187091e-04,   3.97284195e-04,  -3.45088425e-04,\n",
       "        -8.83301138e-04,  -2.70975634e-05,   7.64860131e-04,\n",
       "         9.16610763e-04,  -2.77226733e-04,  -5.52534591e-04,\n",
       "        -6.84835482e-04,  -1.52705179e-04,  -9.98962205e-04,\n",
       "        -8.81970336e-04,   9.07477457e-04,   6.10043295e-04,\n",
       "        -5.49547607e-04,   8.18100001e-04,  -7.89020560e-04,\n",
       "         8.99604929e-04,   1.23563630e-04,   8.10005586e-04,\n",
       "         8.55899649e-04,  -6.92078320e-04,   1.28470303e-04,\n",
       "        -5.44800947e-04,  -5.56548475e-04,   1.34947986e-04,\n",
       "        -8.84350666e-05,   1.23377511e-04,   1.39125681e-04,\n",
       "        -1.62568744e-04,  -6.62047474e-04,   1.61205855e-04,\n",
       "         7.51926505e-04,   7.42614211e-04,  -6.69916742e-04,\n",
       "         6.60056074e-04,   6.82296522e-04,  -3.86777101e-05,\n",
       "         4.98551643e-04,  -8.56725208e-04,   9.79297445e-04,\n",
       "        -9.39043239e-04,   6.05766720e-04,   9.36742174e-04,\n",
       "        -4.48285828e-05,  -2.58430191e-06,   5.39918721e-04,\n",
       "        -6.87298074e-04,  -2.62357120e-04,  -7.20143493e-04,\n",
       "         5.34245453e-04,   3.47504014e-04,  -2.39483561e-04,\n",
       "        -1.36203147e-04,   5.24296542e-04,   6.23623782e-04,\n",
       "         6.83981867e-04,   3.60102073e-04,   7.88629521e-04,\n",
       "         3.73954172e-05,   2.83613976e-04,   9.56011121e-04,\n",
       "        -4.20490484e-04,  -8.93550168e-04,   1.39869153e-04,\n",
       "        -7.27466424e-04,  -7.85416923e-05,  -9.52683389e-04,\n",
       "         4.28150583e-04,  -6.06924819e-04,  -6.13922894e-05,\n",
       "        -4.66008532e-05,  -4.36828850e-04,   9.91382753e-04,\n",
       "        -8.36372026e-04,   2.50996032e-04,   6.27341506e-04,\n",
       "         4.80519637e-04,  -5.15225111e-04,  -2.59515018e-05,\n",
       "        -7.26724684e-05,   6.44338259e-04,  -8.07514414e-04,\n",
       "        -4.85514465e-04,   8.33143888e-04,   2.44099763e-04,\n",
       "         9.16489866e-04,   3.61290586e-04,  -8.98460741e-04,\n",
       "        -7.64110591e-05,   8.33873579e-04,   2.70979392e-04,\n",
       "         2.74727732e-04,   8.81038723e-04,  -2.99580657e-04,\n",
       "        -5.83104615e-04,   8.34427658e-04,   4.80117276e-04,\n",
       "         4.02216741e-04,  -2.33919855e-06,  -3.39063816e-04,\n",
       "         8.23286304e-04,  -8.95432895e-04,  -6.38764584e-04,\n",
       "        -7.72423009e-05,   8.48955475e-04,   9.04241984e-04,\n",
       "         8.41062225e-04,  -8.43735761e-04,  -7.57612404e-04,\n",
       "         4.77302208e-04,   5.93541132e-04,   6.76513766e-04,\n",
       "         1.78072776e-04,  -9.80433542e-04,  -4.56849288e-04,\n",
       "         7.61639327e-04,  -6.93925365e-04,  -8.19590699e-04,\n",
       "         2.85725575e-04,   5.88593655e-04,  -5.20271307e-04,\n",
       "        -8.20187212e-04,  -1.48870779e-04,  -8.99339269e-04,\n",
       "         4.22099460e-04,   5.21900365e-04,   2.90259981e-04,\n",
       "         9.28250956e-04,  -8.33772006e-04,   5.06795419e-04,\n",
       "        -7.68737693e-04,  -6.88438362e-04,  -3.12800839e-04,\n",
       "         7.91816914e-04,   8.99660110e-04,   1.62126657e-04,\n",
       "         3.47757712e-04,  -6.20392209e-04,  -8.70258838e-04,\n",
       "        -2.48638098e-04,  -8.81525164e-04,  -5.96576720e-04,\n",
       "         5.59174747e-04,   4.15783783e-04,   8.44018999e-04,\n",
       "        -5.61107125e-04,  -7.13689253e-04,  -1.83506912e-04,\n",
       "         4.80242947e-04,   3.25008819e-04,  -1.31783003e-04,\n",
       "        -1.61290984e-04,  -2.74879967e-05,  -4.42265067e-04,\n",
       "         3.29250965e-04,   4.85369383e-04,  -4.99524700e-04,\n",
       "        -4.78953516e-05,   2.25481654e-05,  -1.31745182e-04,\n",
       "         4.52668290e-04,  -8.37180822e-04,   8.05083429e-04,\n",
       "         5.02907787e-04,  -2.42717491e-04,  -3.92102462e-04,\n",
       "         2.84880487e-04,  -2.18000336e-04,   5.99259103e-04,\n",
       "         1.74565284e-04,   8.87349248e-04,  -8.62279092e-04,\n",
       "        -8.13564868e-04,  -8.49096919e-04], dtype=float32)"
      ]
     },
     "execution_count": 39,
     "metadata": {},
     "output_type": "execute_result"
    }
   ],
   "source": [
    "model[u'campos']"
   ]
  },
  {
   "cell_type": "code",
   "execution_count": 10,
   "metadata": {
    "collapsed": false
   },
   "outputs": [
    {
     "data": {
      "text/plain": [
       "[(u'pr\\xf3xima', 0.0489029735326767),\n",
       " (u'judici\\xe1rio', 0.04631877690553665),\n",
       " (u'nara', 0.04554399847984314),\n",
       " (u'psol', 0.04423150420188904),\n",
       " (u'voltar', 0.04336097091436386),\n",
       " (u'coletiva', 0.04289194196462631),\n",
       " (u'provocou', 0.0422094501554966),\n",
       " (u'ter\\xe7a', 0.041922423988580704),\n",
       " (u'eleitorado', 0.04177185148000717),\n",
       " (u'tend\\xeancia', 0.04028308391571045)]"
      ]
     },
     "execution_count": 10,
     "metadata": {},
     "output_type": "execute_result"
    }
   ],
   "source": [
    "model.most_similar(positive=[u'eduardo', u'marina' ], negative=[u'aécio'], topn=10)"
   ]
  },
  {
   "cell_type": "code",
   "execution_count": 11,
   "metadata": {
    "collapsed": false
   },
   "outputs": [
    {
     "data": {
      "text/plain": [
       "'eduardo'"
      ]
     },
     "execution_count": 11,
     "metadata": {},
     "output_type": "execute_result"
    }
   ],
   "source": [
    "model.doesnt_match(['eduardo', 'marina', 'psb', 'avião', 'futebol'])"
   ]
  },
  {
   "cell_type": "code",
   "execution_count": 12,
   "metadata": {
    "collapsed": false
   },
   "outputs": [
    {
     "data": {
      "text/plain": [
       "0.016895555188071957"
      ]
     },
     "execution_count": 12,
     "metadata": {},
     "output_type": "execute_result"
    }
   ],
   "source": [
    "model.similarity('marina','psb')"
   ]
  },
  {
   "cell_type": "code",
   "execution_count": 13,
   "metadata": {
    "collapsed": false
   },
   "outputs": [
    {
     "data": {
      "image/png": "[encoded data removed]",
      "text/plain": [
       "<matplotlib.figure.Figure at 0x7fa07c337d10>"
      ]
     },
     "metadata": {},
     "output_type": "display_data"
    }
   ],
   "source": [
    "scatter(model.syn0[:,1],model.syn0[:,2]);"
   ]
  },
  {
   "cell_type": "code",
   "execution_count": 14,
   "metadata": {
    "collapsed": false
   },
   "outputs": [
    {
     "data": {
      "text/plain": [
       "3779"
      ]
     },
     "execution_count": 14,
     "metadata": {},
     "output_type": "execute_result"
    }
   ],
   "source": [
    "len(model.vocab)"
   ]
  },
  {
   "cell_type": "code",
   "execution_count": 30,
   "metadata": {
    "collapsed": false
   },
   "outputs": [],
   "source": [
    "model.table"
   ]
  },
  {
   "cell_type": "code",
   "execution_count": 16,
   "metadata": {
    "collapsed": false
   },
   "outputs": [
    {
     "data": {
      "text/plain": [
       "{u'': <gensim.models.word2vec.Vocab at 0x7fa07c337310>,\n",
       " u')foto': <gensim.models.word2vec.Vocab at 0x7fa07c3ee0d0>,\n",
       " u',': <gensim.models.word2vec.Vocab at 0x7fa07c339590>,\n",
       " u'-': <gensim.models.word2vec.Vocab at 0x7fa07c3d56d0>,\n",
       " u'.': <gensim.models.word2vec.Vocab at 0x7fa07c82b050>,\n",
       " u'/': <gensim.models.word2vec.Vocab at 0x7fa07c320310>,\n",
       " u'/02/2013)foto': <gensim.models.word2vec.Vocab at 0x7fa07c361e90>,\n",
       " u'/07)foto': <gensim.models.word2vec.Vocab at 0x7fa07c3f0950>,\n",
       " u'/08).foto': <gensim.models.word2vec.Vocab at 0x7fa07b749b50>,\n",
       " u'/08)foto': <gensim.models.word2vec.Vocab at 0x7fa07c361790>,\n",
       " u'/08/': <gensim.models.word2vec.Vocab at 0x7fa07d762750>,\n",
       " u'/1/2014)foto': <gensim.models.word2vec.Vocab at 0x7fa07c3d5110>,\n",
       " u'/10/2010)foto': <gensim.models.word2vec.Vocab at 0x7fa07c361650>,\n",
       " u'/15/': <gensim.models.word2vec.Vocab at 0x7fa07c35ed10>,\n",
       " u'/16/': <gensim.models.word2vec.Vocab at 0x7fa07c829150>,\n",
       " u'/21/': <gensim.models.word2vec.Vocab at 0x7fa07c81fa90>,\n",
       " u'/6)foto': <gensim.models.word2vec.Vocab at 0x7fa07c385150>,\n",
       " u'/7)foto': <gensim.models.word2vec.Vocab at 0x7fa07c353690>,\n",
       " u'/7/2007)foto': <gensim.models.word2vec.Vocab at 0x7fa07c3d54d0>,\n",
       " u'/8)foto': <gensim.models.word2vec.Vocab at 0x7fa07c361910>,\n",
       " u'/8/2005)foto': <gensim.models.word2vec.Vocab at 0x7fa07c3d5390>,\n",
       " u'/8/2014)foto': <gensim.models.word2vec.Vocab at 0x7fa07c3e4650>,\n",
       " u':': <gensim.models.word2vec.Vocab at 0x7fa07d763d10>,\n",
       " u':00marcadores': <gensim.models.word2vec.Vocab at 0x7fa07c321a50>,\n",
       " u':30marcadores': <gensim.models.word2vec.Vocab at 0x7fa07c349690>,\n",
       " u'a': <gensim.models.word2vec.Vocab at 0x7fa07c3216d0>,\n",
       " u'abaixo': <gensim.models.word2vec.Vocab at 0x7fa07b8cc0d0>,\n",
       " u'abalada': <gensim.models.word2vec.Vocab at 0x7fa07c365110>,\n",
       " u'abandonou': <gensim.models.word2vec.Vocab at 0x7fa07d7aaed0>,\n",
       " u'abastecimento': <gensim.models.word2vec.Vocab at 0x7fa07b419b50>,\n",
       " u'abc': <gensim.models.word2vec.Vocab at 0x7fa07c3de410>,\n",
       " u'abdelmassih': <gensim.models.word2vec.Vocab at 0x7fa07b1f2050>,\n",
       " u'aberta': <gensim.models.word2vec.Vocab at 0x7fa07c529090>,\n",
       " u'abertas': <gensim.models.word2vec.Vocab at 0x7fa07b303990>,\n",
       " u'aberto': <gensim.models.word2vec.Vocab at 0x7fa07c828310>,\n",
       " u'abertura': <gensim.models.word2vec.Vocab at 0x7fa07b6da210>,\n",
       " u'abordagem': <gensim.models.word2vec.Vocab at 0x7fa07c365710>,\n",
       " u'aborto': <gensim.models.word2vec.Vocab at 0x7fa07c3856d0>,\n",
       " u'abre': <gensim.models.word2vec.Vocab at 0x7fa07c339e90>,\n",
       " u'abreu': <gensim.models.word2vec.Vocab at 0x7fa07b862d90>,\n",
       " u'abril': <gensim.models.word2vec.Vocab at 0x7fa07c815150>,\n",
       " u'abrir': <gensim.models.word2vec.Vocab at 0x7fa07cc899d0>,\n",
       " u'abriu': <gensim.models.word2vec.Vocab at 0x7fa07c5320d0>,\n",
       " u'absoluta': <gensim.models.word2vec.Vocab at 0x7fa07c3e5690>,\n",
       " u'absolutamente': <gensim.models.word2vec.Vocab at 0x7fa07c0c5f90>,\n",
       " u'acaba': <gensim.models.word2vec.Vocab at 0x7fa07b7e7150>,\n",
       " u'acabar': <gensim.models.word2vec.Vocab at 0x7fa07cb1d250>,\n",
       " u'acabou': <gensim.models.word2vec.Vocab at 0x7fa07d77b790>,\n",
       " u'academia': <gensim.models.word2vec.Vocab at 0x7fa07b73d750>,\n",
       " u'acad\\xeamico': <gensim.models.word2vec.Vocab at 0x7fa07b8670d0>,\n",
       " u'aceitar': <gensim.models.word2vec.Vocab at 0x7fa07cb24ed0>,\n",
       " u'aceitou': <gensim.models.word2vec.Vocab at 0x7fa07d328e90>,\n",
       " u'acenam': <gensim.models.word2vec.Vocab at 0x7fa07b555f90>,\n",
       " u'acesse': <gensim.models.word2vec.Vocab at 0x7fa07b88b910>,\n",
       " u'acesso': <gensim.models.word2vec.Vocab at 0x7fa07c38f4d0>,\n",
       " u'acha': <gensim.models.word2vec.Vocab at 0x7fa07b8bc090>,\n",
       " u'achar': <gensim.models.word2vec.Vocab at 0x7fa07b874950>,\n",
       " u'acho': <gensim.models.word2vec.Vocab at 0x7fa07c532810>,\n",
       " u'acidente': <gensim.models.word2vec.Vocab at 0x7fa07c337950>,\n",
       " u'acidentes': <gensim.models.word2vec.Vocab at 0x7fa07b842290>,\n",
       " u'acima': <gensim.models.word2vec.Vocab at 0x7fa07cb1b750>,\n",
       " u'acm': <gensim.models.word2vec.Vocab at 0x7fa07c3ee390>,\n",
       " u'acompanha': <gensim.models.word2vec.Vocab at 0x7fa07c3d5710>,\n",
       " u'acompanhada': <gensim.models.word2vec.Vocab at 0x7fa07c82ced0>,\n",
       " u'acompanham': <gensim.models.word2vec.Vocab at 0x7fa07c333dd0>,\n",
       " u'acompanhar': <gensim.models.word2vec.Vocab at 0x7fa07c353e90>,\n",
       " u'acompanhe': <gensim.models.word2vec.Vocab at 0x7fa07b7446d0>,\n",
       " u'acompanhou': <gensim.models.word2vec.Vocab at 0x7fa07c337390>,\n",
       " u'acontece': <gensim.models.word2vec.Vocab at 0x7fa07d32e5d0>,\n",
       " u'acontecendo': <gensim.models.word2vec.Vocab at 0x7fa07b813f10>,\n",
       " u'acontecer': <gensim.models.word2vec.Vocab at 0x7fa07b739d10>,\n",
       " u'aconteceu': <gensim.models.word2vec.Vocab at 0x7fa07c3876d0>,\n",
       " u'acordo': <gensim.models.word2vec.Vocab at 0x7fa07c341450>,\n",
       " u'acordos': <gensim.models.word2vec.Vocab at 0x7fa07d343b90>,\n",
       " u'acredita': <gensim.models.word2vec.Vocab at 0x7fa07cb2fa90>,\n",
       " u'acreditam': <gensim.models.word2vec.Vocab at 0x7fa07cb20910>,\n",
       " u'acreditar': <gensim.models.word2vec.Vocab at 0x7fa07cc61d10>,\n",
       " u'acredito': <gensim.models.word2vec.Vocab at 0x7fa07cc71610>,\n",
       " u'acrescentou': <gensim.models.word2vec.Vocab at 0x7fa07c38fc50>,\n",
       " u'acumulado': <gensim.models.word2vec.Vocab at 0x7fa07b71d990>,\n",
       " u'acusado': <gensim.models.word2vec.Vocab at 0x7fa07b84d350>,\n",
       " u'acusados': <gensim.models.word2vec.Vocab at 0x7fa07b4ea710>,\n",
       " u'acusa\\xe7\\xe3o': <gensim.models.word2vec.Vocab at 0x7fa07b733ed0>,\n",
       " u'acusa\\xe7\\xf5es': <gensim.models.word2vec.Vocab at 0x7fa07b470110>,\n",
       " u'acusou': <gensim.models.word2vec.Vocab at 0x7fa07d782a90>,\n",
       " u'administrativa': <gensim.models.word2vec.Vocab at 0x7fa07b5c2590>,\n",
       " u'administrativo': <gensim.models.word2vec.Vocab at 0x7fa07b2f1850>,\n",
       " u'administra\\xe7\\xe3o': <gensim.models.word2vec.Vocab at 0x7fa07b6e0f50>,\n",
       " u'admiradores': <gensim.models.word2vec.Vocab at 0x7fa07b61a290>,\n",
       " u'admite': <gensim.models.word2vec.Vocab at 0x7fa07b7bf490>,\n",
       " u'adolescente': <gensim.models.word2vec.Vocab at 0x7fa07b2ac490>,\n",
       " u'adolescentes': <gensim.models.word2vec.Vocab at 0x7fa07b523590>,\n",
       " u'advers\\xe1ria': <gensim.models.word2vec.Vocab at 0x7fa07cb24450>,\n",
       " u'advers\\xe1rio': <gensim.models.word2vec.Vocab at 0x7fa07cb12d50>,\n",
       " u'advers\\xe1rios': <gensim.models.word2vec.Vocab at 0x7fa07c33b750>,\n",
       " u'advogado': <gensim.models.word2vec.Vocab at 0x7fa07c81fc50>,\n",
       " u'advogados': <gensim.models.word2vec.Vocab at 0x7fa07b7f8f90>,\n",
       " u'aeronave': <gensim.models.word2vec.Vocab at 0x7fa07d782810>,\n",
       " u'aeron\\xe1utica': <gensim.models.word2vec.Vocab at 0x7fa07cc613d0>,\n",
       " u'aeroporto': <gensim.models.word2vec.Vocab at 0x7fa07c82cc90>,\n",
       " u'aeroportos': <gensim.models.word2vec.Vocab at 0x7fa07c53a6d0>,\n",
       " u'af': <gensim.models.word2vec.Vocab at 0x7fa07b7a7f10>,\n",
       " u'afetados': <gensim.models.word2vec.Vocab at 0x7fa07b516a90>,\n",
       " u'afinal': <gensim.models.word2vec.Vocab at 0x7fa07c51e7d0>,\n",
       " u'afirma': <gensim.models.word2vec.Vocab at 0x7fa07c387410>,\n",
       " u'afirmando': <gensim.models.word2vec.Vocab at 0x7fa07cc74b90>,\n",
       " u'afirmar': <gensim.models.word2vec.Vocab at 0x7fa07d75c490>,\n",
       " u'afirmou': <gensim.models.word2vec.Vocab at 0x7fa07d343f50>,\n",
       " u'afroreagge': <gensim.models.word2vec.Vocab at 0x7fa07c3f0e10>,\n",
       " u'agenda': <gensim.models.word2vec.Vocab at 0x7fa07d31dd10>,\n",
       " u'agente': <gensim.models.word2vec.Vocab at 0x7fa07b4da5d0>,\n",
       " u'agentes': <gensim.models.word2vec.Vocab at 0x7fa07b42fb90>,\n",
       " u'ago': <gensim.models.word2vec.Vocab at 0x7fa07c3217d0>,\n",
       " u'agora': <gensim.models.word2vec.Vocab at 0x7fa07c341390>,\n",
       " u'agosto': <gensim.models.word2vec.Vocab at 0x7fa07c82b450>,\n",
       " u'agricultura': <gensim.models.word2vec.Vocab at 0x7fa07c54ddd0>,\n",
       " u'agroneg\\xf3cio': <gensim.models.word2vec.Vocab at 0x7fa07d77d910>,\n",
       " u'agropecu\\xe1ria': <gensim.models.word2vec.Vocab at 0x7fa07cb42a50>,\n",
       " u'aguarda': <gensim.models.word2vec.Vocab at 0x7fa07b24ed90>,\n",
       " u'aguardam': <gensim.models.word2vec.Vocab at 0x7fa07b54efd0>,\n",
       " u'ag\\xeancia': <gensim.models.word2vec.Vocab at 0x7fa07d3174d0>,\n",
       " u'ag\\xeancias': <gensim.models.word2vec.Vocab at 0x7fa07c51e190>,\n",
       " u'aikawa/instituto': <gensim.models.word2vec.Vocab at 0x7fa07c3f04d0>,\n",
       " u'ainda': <gensim.models.word2vec.Vocab at 0x7fa07c341fd0>,\n",
       " u'aires': <gensim.models.word2vec.Vocab at 0x7fa07b661150>,\n",
       " u'ajuda': <gensim.models.word2vec.Vocab at 0x7fa07b819390>,\n",
       " u'ajudar': <gensim.models.word2vec.Vocab at 0x7fa07c5293d0>,\n",
       " u'ajudou': <gensim.models.word2vec.Vocab at 0x7fa07b86cc90>,\n",
       " u'ajuste': <gensim.models.word2vec.Vocab at 0x7fa07b749ed0>,\n",
       " u'ajustes': <gensim.models.word2vec.Vocab at 0x7fa07cb1b210>,\n",
       " u'al': <gensim.models.word2vec.Vocab at 0x7fa07c3e4c90>,\n",
       " u'alagoas': <gensim.models.word2vec.Vocab at 0x7fa07c532c50>,\n",
       " u'alan': <gensim.models.word2vec.Vocab at 0x7fa07c3617d0>,\n",
       " u'alberto': <gensim.models.word2vec.Vocab at 0x7fa07c33b650>,\n",
       " u'albuquerque': <gensim.models.word2vec.Vocab at 0x7fa07d343750>,\n",
       " u'alcance': <gensim.models.word2vec.Vocab at 0x7fa07d75c0d0>,\n",
       " u'alcan\\xe7ar': <gensim.models.word2vec.Vocab at 0x7fa07c2a5950>,\n",
       " u'alcan\\xe7ou': <gensim.models.word2vec.Vocab at 0x7fa07b648750>,\n",
       " u'alckmin': <gensim.models.word2vec.Vocab at 0x7fa07c334d10>,\n",
       " u'aldeota': <gensim.models.word2vec.Vocab at 0x7fa07b103710>,\n",
       " u'aldo': <gensim.models.word2vec.Vocab at 0x7fa07cb42690>,\n",
       " u'alegre': <gensim.models.word2vec.Vocab at 0x7fa07c3ee550>,\n",
       " u'alegria': <gensim.models.word2vec.Vocab at 0x7fa07c82c810>,\n",
       " u'alemanha': <gensim.models.word2vec.Vocab at 0x7fa07b739590>,\n",
       " u'alem\\xe3': <gensim.models.word2vec.Vocab at 0x7fa07b2a7750>,\n",
       " u'alem\\xe3o': <gensim.models.word2vec.Vocab at 0x7fa07b666e10>,\n",
       " u'alencar': <gensim.models.word2vec.Vocab at 0x7fa07b7224d0>,\n",
       " u'alerta': <gensim.models.word2vec.Vocab at 0x7fa07cb12850>,\n",
       " u'alexandre': <gensim.models.word2vec.Vocab at 0x7fa07c387b10>,\n",
       " u'alfredo': <gensim.models.word2vec.Vocab at 0x7fa07b79bd50>,\n",
       " u'algo': <gensim.models.word2vec.Vocab at 0x7fa07c341d50>,\n",
       " u'algum': <gensim.models.word2vec.Vocab at 0x7fa07d343450>,\n",
       " u'alguma': <gensim.models.word2vec.Vocab at 0x7fa07c341890>,\n",
       " u'algumas': <gensim.models.word2vec.Vocab at 0x7fa07c3349d0>,\n",
       " u'alguns': <gensim.models.word2vec.Vocab at 0x7fa07c334b50>,\n",
       " u'algu\\xe9m': <gensim.models.word2vec.Vocab at 0x7fa07cb2f310>,\n",
       " u'ali': <gensim.models.word2vec.Vocab at 0x7fa07b8cc210>,\n",
       " u'aliado': <gensim.models.word2vec.Vocab at 0x7fa07c8159d0>,\n",
       " u'aliados': <gensim.models.word2vec.Vocab at 0x7fa07cb203d0>,\n",
       " u'alian\\xe7a': <gensim.models.word2vec.Vocab at 0x7fa07c321050>,\n",
       " u'alian\\xe7as': <gensim.models.word2vec.Vocab at 0x7fa07c334bd0>,\n",
       " u'alice': <gensim.models.word2vec.Vocab at 0x7fa07c339310>,\n",
       " u'alimenta\\xe7\\xe3o': <gensim.models.word2vec.Vocab at 0x7fa07b6e5790>,\n",
       " u'alimentos': <gensim.models.word2vec.Vocab at 0x7fa07b4c4ed0>,\n",
       " u'ali\\xe1s': <gensim.models.word2vec.Vocab at 0x7fa07d31d110>,\n",
       " u'all': <gensim.models.word2vec.Vocab at 0x7fa07b3d8890>,\n",
       " u'almeida': <gensim.models.word2vec.Vocab at 0x7fa07b451d10>,\n",
       " u'aloizio': <gensim.models.word2vec.Vocab at 0x7fa07c3d5750>,\n",
       " u'alta': <gensim.models.word2vec.Vocab at 0x7fa07b862ad0>,\n",
       " u'altera\\xe7\\xf5es': <gensim.models.word2vec.Vocab at 0x7fa07c532b90>,\n",
       " u'alternativa': <gensim.models.word2vec.Vocab at 0x7fa07c32b110>,\n",
       " u'alternativas': <gensim.models.word2vec.Vocab at 0x7fa07c84b0d0>,\n",
       " u'alto': <gensim.models.word2vec.Vocab at 0x7fa07c3e4450>,\n",
       " u'altos': <gensim.models.word2vec.Vocab at 0x7fa07b790b90>,\n",
       " u'altura': <gensim.models.word2vec.Vocab at 0x7fa07b7c47d0>,\n",
       " u'alunos': <gensim.models.word2vec.Vocab at 0x7fa07b6a43d0>,\n",
       " u'alves': <gensim.models.word2vec.Vocab at 0x7fa07c519550>,\n",
       " u'alvo': <gensim.models.word2vec.Vocab at 0x7fa07c33b590>,\n",
       " u'al\\xe9m': <gensim.models.word2vec.Vocab at 0x7fa07c339850>,\n",
       " u'amanh\\xe3': <gensim.models.word2vec.Vocab at 0x7fa07cb24090>,\n",
       " u'amaral': <gensim.models.word2vec.Vocab at 0x7fa07cb1d4d0>,\n",
       " u'amaro': <gensim.models.word2vec.Vocab at 0x7fa07cc5ddd0>,\n",
       " u'amazonasfoto': <gensim.models.word2vec.Vocab at 0x7fa07c3f0810>,\n",
       " u'ambiental': <gensim.models.word2vec.Vocab at 0x7fa07c527c90>,\n",
       " u'ambientalista': <gensim.models.word2vec.Vocab at 0x7fa07c81fb10>,\n",
       " u'ambiente': <gensim.models.word2vec.Vocab at 0x7fa07d7aa390>,\n",
       " u'ambos': <gensim.models.word2vec.Vocab at 0x7fa07c8294d0>,\n",
       " u'amea\\xe7a': <gensim.models.word2vec.Vocab at 0x7fa07c34f350>,\n",
       " u'americana': <gensim.models.word2vec.Vocab at 0x7fa07b5a0910>,\n",
       " u'americano': <gensim.models.word2vec.Vocab at 0x7fa07b8746d0>,\n",
       " u'americanos': <gensim.models.word2vec.Vocab at 0x7fa07b5e4a50>,\n",
       " u'amiga': <gensim.models.word2vec.Vocab at 0x7fa07b7e7290>,\n",
       " u'amigo': <gensim.models.word2vec.Vocab at 0x7fa07c532390>,\n",
       " u'amigos': <gensim.models.word2vec.Vocab at 0x7fa07c365ad0>,\n",
       " u'amizade': <gensim.models.word2vec.Vocab at 0x7fa07b66b9d0>,\n",
       " u'amor': <gensim.models.word2vec.Vocab at 0x7fa07b5d8b50>,\n",
       " u'amorim': <gensim.models.word2vec.Vocab at 0x7fa07b83d490>,\n",
       " u'ampla': <gensim.models.word2vec.Vocab at 0x7fa07b79bcd0>,\n",
       " u'ampliar': <gensim.models.word2vec.Vocab at 0x7fa07b6d6c90>,\n",
       " u'amplia\\xe7\\xe3o': <gensim.models.word2vec.Vocab at 0x7fa07b6da4d0>,\n",
       " u'am\\xe9lia': <gensim.models.word2vec.Vocab at 0x7fa07c3f0ad0>,\n",
       " u'am\\xe9rica': <gensim.models.word2vec.Vocab at 0x7fa07c339410>,\n",
       " u'ana': <gensim.models.word2vec.Vocab at 0x7fa07c84b390>,\n",
       " u'anac': <gensim.models.word2vec.Vocab at 0x7fa07b7ac610>,\n",
       " u'analisar': <gensim.models.word2vec.Vocab at 0x7fa07c81f590>,\n",
       " u'analista': <gensim.models.word2vec.Vocab at 0x7fa07b59ba50>,\n",
       " u'analistas': <gensim.models.word2vec.Vocab at 0x7fa07c333590>,\n",
       " u'anatel': <gensim.models.word2vec.Vocab at 0x7fa07b227110>,\n",
       " u'and': <gensim.models.word2vec.Vocab at 0x7fa07c35e710>,\n",
       " u'anda': <gensim.models.word2vec.Vocab at 0x7fa07b749350>,\n",
       " u'andar': <gensim.models.word2vec.Vocab at 0x7fa07b8052d0>,\n",
       " u'andrade': <gensim.models.word2vec.Vocab at 0x7fa07b7a7f50>,\n",
       " u'andr\\xe9': <gensim.models.word2vec.Vocab at 0x7fa07c34f9d0>,\n",
       " u'animais': <gensim.models.word2vec.Vocab at 0x7fa07b255ed0>,\n",
       " u'animal': <gensim.models.word2vec.Vocab at 0x7fa07b708850>,\n",
       " u'anima\\xe7\\xe3o': <gensim.models.word2vec.Vocab at 0x7fa07b531690>,\n",
       " u'anivers\\xe1rio': <gensim.models.word2vec.Vocab at 0x7fa07c3f0150>,\n",
       " u'ano': <gensim.models.word2vec.Vocab at 0x7fa07d75c790>,\n",
       " u'anofoto': <gensim.models.word2vec.Vocab at 0x7fa07c3e4b10>,\n",
       " u'anos': <gensim.models.word2vec.Vocab at 0x7fa07c33d6d0>,\n",
       " u'ante': <gensim.models.word2vec.Vocab at 0x7fa07cb247d0>,\n",
       " u'anterior': <gensim.models.word2vec.Vocab at 0x7fa07cb24710>,\n",
       " u'anteriores': <gensim.models.word2vec.Vocab at 0x7fa07b5bb250>,\n",
       " u'anteriormente': <gensim.models.word2vec.Vocab at 0x7fa07d762e50>,\n",
       " u'antes': <gensim.models.word2vec.Vocab at 0x7fa07c31cd90>,\n",
       " u'anthony': <gensim.models.word2vec.Vocab at 0x7fa07b8749d0>,\n",
       " u'antigo': <gensim.models.word2vec.Vocab at 0x7fa07b88be90>,\n",
       " u'antonio': <gensim.models.word2vec.Vocab at 0x7fa07cb20a90>,\n",
       " u'ant\\xf4nio': <gensim.models.word2vec.Vocab at 0x7fa07c81fcd0>,\n",
       " u'anual': <gensim.models.word2vec.Vocab at 0x7fa07b755f50>,\n",
       " u'anuncia': <gensim.models.word2vec.Vocab at 0x7fa07b72dd10>,\n",
       " u'anunciada': <gensim.models.word2vec.Vocab at 0x7fa07cb1d550>,\n",
       " u'anunciado': <gensim.models.word2vec.Vocab at 0x7fa07b8626d0>,\n",
       " u'anunciar': <gensim.models.word2vec.Vocab at 0x7fa07cb20b90>,\n",
       " u'anunciou': <gensim.models.word2vec.Vocab at 0x7fa07c366390>,\n",
       " u'an\\xe1lise': <gensim.models.word2vec.Vocab at 0x7fa07d32cc10>,\n",
       " u'an\\xfancio': <gensim.models.word2vec.Vocab at 0x7fa07cb1d8d0>,\n",
       " u'ao': <gensim.models.word2vec.Vocab at 0x7fa07d32eb50>,\n",
       " u'aos': <gensim.models.word2vec.Vocab at 0x7fa07b6d6f50>,\n",
       " u'aparece': <gensim.models.word2vec.Vocab at 0x7fa07d77d2d0>,\n",
       " u'aparecem': <gensim.models.word2vec.Vocab at 0x7fa07c3e5d90>,\n",
       " u'apareceu': <gensim.models.word2vec.Vocab at 0x7fa07c3f4850>,\n",
       " u'aparelhos': <gensim.models.word2vec.Vocab at 0x7fa07b1e7750>,\n",
       " u'apartamento': <gensim.models.word2vec.Vocab at 0x7fa07b47e290>,\n",
       " u'apenas': <gensim.models.word2vec.Vocab at 0x7fa07c33d710>,\n",
       " u'aperto': <gensim.models.word2vec.Vocab at 0x7fa07c385e50>,\n",
       " u'apesar': <gensim.models.word2vec.Vocab at 0x7fa07cb12c50>,\n",
       " u'aplicativo': <gensim.models.word2vec.Vocab at 0x7fa07c5749d0>,\n",
       " u'apoia': <gensim.models.word2vec.Vocab at 0x7fa07c532110>,\n",
       " u'apoiar': <gensim.models.word2vec.Vocab at 0x7fa07c81ff90>,\n",
       " u'apoio': <gensim.models.word2vec.Vocab at 0x7fa07c34f890>,\n",
       " u'apoios': <gensim.models.word2vec.Vocab at 0x7fa07c828ed0>,\n",
       " u'apoiou': <gensim.models.word2vec.Vocab at 0x7fa07b8856d0>,\n",
       " u'aponta': <gensim.models.word2vec.Vocab at 0x7fa07b86c550>,\n",
       " u'apontado': <gensim.models.word2vec.Vocab at 0x7fa07c519fd0>,\n",
       " u'apontam': <gensim.models.word2vec.Vocab at 0x7fa07c82cb10>,\n",
       " u'apontar': <gensim.models.word2vec.Vocab at 0x7fa07b7f8dd0>,\n",
       " u'apontou': <gensim.models.word2vec.Vocab at 0x7fa07c527810>,\n",
       " u'aposentadoria': <gensim.models.word2vec.Vocab at 0x7fa07b6e5690>,\n",
       " u'aposta': <gensim.models.word2vec.Vocab at 0x7fa07c333750>,\n",
       " u'appeared': <gensim.models.word2vec.Vocab at 0x7fa07c339d90>,\n",
       " u'apreens\\xe3o': <gensim.models.word2vec.Vocab at 0x7fa07b59bdd0>,\n",
       " u'apresenta': <gensim.models.word2vec.Vocab at 0x7fa07cb2f750>,\n",
       " u'apresentada': <gensim.models.word2vec.Vocab at 0x7fa07c815110>,\n",
       " u'apresentado': <gensim.models.word2vec.Vocab at 0x7fa07b744750>,\n",
       " u'apresentadores': <gensim.models.word2vec.Vocab at 0x7fa07c337e10>,\n",
       " u'apresentando': <gensim.models.word2vec.Vocab at 0x7fa07c53a490>,\n",
       " u'apresentar': <gensim.models.word2vec.Vocab at 0x7fa07c339890>,\n",
       " u'apresenta\\xe7\\xe3o': <gensim.models.word2vec.Vocab at 0x7fa07b5dee90>,\n",
       " u'apresenta\\xe7\\xf5es': <gensim.models.word2vec.Vocab at 0x7fa07b41d1d0>,\n",
       " u'apresentou': <gensim.models.word2vec.Vocab at 0x7fa07c31ca10>,\n",
       " u'aprovada': <gensim.models.word2vec.Vocab at 0x7fa07b564790>,\n",
       " u'aprova\\xe7\\xe3o': <gensim.models.word2vec.Vocab at 0x7fa07c515190>,\n",
       " u'aproveitou': <gensim.models.word2vec.Vocab at 0x7fa07d782cd0>,\n",
       " u'aprovou': <gensim.models.word2vec.Vocab at 0x7fa07c321210>,\n",
       " u'aproximadamente': <gensim.models.word2vec.Vocab at 0x7fa07b84d790>,\n",
       " u'aproxima\\xe7\\xe3o': <gensim.models.word2vec.Vocab at 0x7fa07c3e48d0>,\n",
       " u'apurar': <gensim.models.word2vec.Vocab at 0x7fa07b700790>,\n",
       " u'apura\\xe7\\xe3o': <gensim.models.word2vec.Vocab at 0x7fa07c515310>,\n",
       " u'ap\\xf3s': <gensim.models.word2vec.Vocab at 0x7fa07c31c410>,\n",
       " u'aquavi\\xe1rios': <gensim.models.word2vec.Vocab at 0x7fa07c06b7d0>,\n",
       " u'aqui': <gensim.models.word2vec.Vocab at 0x7fa07d31d550>,\n",
       " u'aquisi\\xe7\\xe3o': <gensim.models.word2vec.Vocab at 0x7fa07b787e10>,\n",
       " u'ar': <gensim.models.word2vec.Vocab at 0x7fa07d7824d0>,\n",
       " u'aracaju': <gensim.models.word2vec.Vocab at 0x7fa07c387e10>,\n",
       " u'arag\\xe3o': <gensim.models.word2vec.Vocab at 0x7fa07b1482d0>,\n",
       " u'arapiraca': <gensim.models.word2vec.Vocab at 0x7fa07c3e4c50>,\n",
       " u'ara\\xfajo': <gensim.models.word2vec.Vocab at 0x7fa07b4bb8d0>,\n",
       " u'arcebispo': <gensim.models.word2vec.Vocab at 0x7fa07c361690>,\n",
       " u'arcoplex': <gensim.models.word2vec.Vocab at 0x7fa07b1036d0>,\n",
       " u'argentina': <gensim.models.word2vec.Vocab at 0x7fa07b65cf90>,\n",
       " u'argentino': <gensim.models.word2vec.Vocab at 0x7fa07b831250>,\n",
       " u'argumento': <gensim.models.word2vec.Vocab at 0x7fa07b879450>,\n",
       " u'argumentou': <gensim.models.word2vec.Vocab at 0x7fa07c519490>,\n",
       " u'arma': <gensim.models.word2vec.Vocab at 0x7fa07b6b0290>,\n",
       " u'armado': <gensim.models.word2vec.Vocab at 0x7fa07b34e350>,\n",
       " u'armando': <gensim.models.word2vec.Vocab at 0x7fa07c2a5650>,\n",
       " u'armas': <gensim.models.word2vec.Vocab at 0x7fa07d317d10>,\n",
       " u'arraes': <gensim.models.word2vec.Vocab at 0x7fa07c3d5310>,\n",
       " u'arrecada\\xe7\\xe3o': <gensim.models.word2vec.Vocab at 0x7fa07cc89310>,\n",
       " u'arremeteu': <gensim.models.word2vec.Vocab at 0x7fa07cc614d0>,\n",
       " u'arruda': <gensim.models.word2vec.Vocab at 0x7fa07b70d990>,\n",
       " u'arte': <gensim.models.word2vec.Vocab at 0x7fa07b432210>,\n",
       " u'artes': <gensim.models.word2vec.Vocab at 0x7fa07b678990>,\n",
       " u'articula\\xe7\\xe3o': <gensim.models.word2vec.Vocab at 0x7fa07b82b650>,\n",
       " u'artigo': <gensim.models.word2vec.Vocab at 0x7fa07b7f80d0>,\n",
       " u'artigos': <gensim.models.word2vec.Vocab at 0x7fa07b87f690>,\n",
       " u'artista': <gensim.models.word2vec.Vocab at 0x7fa07c263550>,\n",
       " u'artistas': <gensim.models.word2vec.Vocab at 0x7fa07b378f50>,\n",
       " u'as': <gensim.models.word2vec.Vocab at 0x7fa07d784110>,\n",
       " u'aspectos': <gensim.models.word2vec.Vocab at 0x7fa07c52d850>,\n",
       " u'assembleia': <gensim.models.word2vec.Vocab at 0x7fa07b84df50>,\n",
       " u'assessor': <gensim.models.word2vec.Vocab at 0x7fa07cb2f150>,\n",
       " u'assessores': <gensim.models.word2vec.Vocab at 0x7fa07cb2fe50>,\n",
       " u'assessoria': <gensim.models.word2vec.Vocab at 0x7fa07b813190>,\n",
       " u'assim': <gensim.models.word2vec.Vocab at 0x7fa07c33dd90>,\n",
       " u'assinada': <gensim.models.word2vec.Vocab at 0x7fa07c38fbd0>,\n",
       " u'assinado': <gensim.models.word2vec.Vocab at 0x7fa07b84dbd0>,\n",
       " u'assis': <gensim.models.word2vec.Vocab at 0x7fa07b837810>,\n",
       " u'assistente': <gensim.models.word2vec.Vocab at 0x7fa07b368ad0>,\n",
       " u'assist\\xeancia': <gensim.models.word2vec.Vocab at 0x7fa07b3e8510>,\n",
       " u'associados': <gensim.models.word2vec.Vocab at 0x7fa07b848250>,\n",
       " u'associa\\xe7\\xe3o': <gensim.models.word2vec.Vocab at 0x7fa07b744f50>,\n",
       " u'assume': <gensim.models.word2vec.Vocab at 0x7fa07cb174d0>,\n",
       " u'assumir': <gensim.models.word2vec.Vocab at 0x7fa07c32b3d0>,\n",
       " u'assumiu': <gensim.models.word2vec.Vocab at 0x7fa07c3413d0>,\n",
       " u'assunto': <gensim.models.word2vec.Vocab at 0x7fa07c320350>,\n",
       " u'assuntos': <gensim.models.word2vec.Vocab at 0x7fa07b782810>,\n",
       " u'assun\\xe7\\xe3o': <gensim.models.word2vec.Vocab at 0x7fa07b3ce950>,\n",
       " u'atacama': <gensim.models.word2vec.Vocab at 0x7fa07afd9d90>,\n",
       " u'atacar': <gensim.models.word2vec.Vocab at 0x7fa07b72d190>,\n",
       " u'ataque': <gensim.models.word2vec.Vocab at 0x7fa07c38f390>,\n",
       " u'ataques': <gensim.models.word2vec.Vocab at 0x7fa07b879c10>,\n",
       " u'atende': <gensim.models.word2vec.Vocab at 0x7fa07b787f90>,\n",
       " u'atender': <gensim.models.word2vec.Vocab at 0x7fa07c32bfd0>,\n",
       " u'atendimento': <gensim.models.word2vec.Vocab at 0x7fa07b42aad0>,\n",
       " u'aten\\xe7\\xe3o': <gensim.models.word2vec.Vocab at 0x7fa07b867c50>,\n",
       " u'atingir': <gensim.models.word2vec.Vocab at 0x7fa07b62c910>,\n",
       " u'atingiu': <gensim.models.word2vec.Vocab at 0x7fa07b57fed0>,\n",
       " u'atitude': <gensim.models.word2vec.Vocab at 0x7fa07d77b890>,\n",
       " u'atividade': <gensim.models.word2vec.Vocab at 0x7fa07b790110>,\n",
       " u'atividades': <gensim.models.word2vec.Vocab at 0x7fa07b790d50>,\n",
       " u'ativos': <gensim.models.word2vec.Vocab at 0x7fa07b7555d0>,\n",
       " u'ato': <gensim.models.word2vec.Vocab at 0x7fa07cb17550>,\n",
       " u'ator': <gensim.models.word2vec.Vocab at 0x7fa07b678b10>,\n",
       " u'atos': <gensim.models.word2vec.Vocab at 0x7fa07b4da4d0>,\n",
       " u'atrair': <gensim.models.word2vec.Vocab at 0x7fa07c3f4b90>,\n",
       " u'atraso': <gensim.models.word2vec.Vocab at 0x7fa07b5d8310>,\n",
       " u'atrav\\xe9s': <gensim.models.word2vec.Vocab at 0x7fa07b7625d0>,\n",
       " u'atra\\xe7\\xf5es': <gensim.models.word2vec.Vocab at 0x7fa07bf95d90>,\n",
       " u'atriz': <gensim.models.word2vec.Vocab at 0x7fa07b27b650>,\n",
       " u'atr\\xe1s': <gensim.models.word2vec.Vocab at 0x7fa07cb245d0>,\n",
       " u'atuais': <gensim.models.word2vec.Vocab at 0x7fa07c815610>,\n",
       " u'atual': <gensim.models.word2vec.Vocab at 0x7fa07d7827d0>,\n",
       " u'atualmente': <gensim.models.word2vec.Vocab at 0x7fa07c519290>,\n",
       " u'atuar': <gensim.models.word2vec.Vocab at 0x7fa07d318e90>,\n",
       " u'atua\\xe7\\xe3o': <gensim.models.word2vec.Vocab at 0x7fa07b744cd0>,\n",
       " u'at\\xe9': <gensim.models.word2vec.Vocab at 0x7fa07d318ed0>,\n",
       " u'audi\\xeancia': <gensim.models.word2vec.Vocab at 0x7fa07c84b950>,\n",
       " u'augusto': <gensim.models.word2vec.Vocab at 0x7fa07cc61fd0>,\n",
       " u'aula': <gensim.models.word2vec.Vocab at 0x7fa07b15d190>,\n",
       " u'aulas': <gensim.models.word2vec.Vocab at 0x7fa07b27e890>,\n",
       " u'aumenta': <gensim.models.word2vec.Vocab at 0x7fa07b503f10>,\n",
       " u'aumentar': <gensim.models.word2vec.Vocab at 0x7fa07b84d550>,\n",
       " u'aumento': <gensim.models.word2vec.Vocab at 0x7fa07d31ded0>,\n",
       " u'aumentou': <gensim.models.word2vec.Vocab at 0x7fa07b6fb910>,\n",
       " u'aus\\xeancia': <gensim.models.word2vec.Vocab at 0x7fa07b5a7790>,\n",
       " u'autonomia': <gensim.models.word2vec.Vocab at 0x7fa07b854850>,\n",
       " u'autor': <gensim.models.word2vec.Vocab at 0x7fa07b7e1c50>,\n",
       " u'autores': <gensim.models.word2vec.Vocab at 0x7fa07c261110>,\n",
       " u'autoria': <gensim.models.word2vec.Vocab at 0x7fa07b4752d0>,\n",
       " u'autoridade': <gensim.models.word2vec.Vocab at 0x7fa07d762410>,\n",
       " u'autoridades': <gensim.models.word2vec.Vocab at 0x7fa07b755190>,\n",
       " u'autoriza\\xe7\\xe3o': <gensim.models.word2vec.Vocab at 0x7fa07b8134d0>,\n",
       " u'auxiliar': <gensim.models.word2vec.Vocab at 0x7fa07b7d3ed0>,\n",
       " u'aux\\xedlio': <gensim.models.word2vec.Vocab at 0x7fa07b564a90>,\n",
       " u'av': <gensim.models.word2vec.Vocab at 0x7fa07b83d710>,\n",
       " u'avalia': <gensim.models.word2vec.Vocab at 0x7fa07c385350>,\n",
       " u'avaliar': <gensim.models.word2vec.Vocab at 0x7fa07b602950>,\n",
       " u'avalia\\xe7\\xe3o': <gensim.models.word2vec.Vocab at 0x7fa07d32e650>,\n",
       " u'avaliou': <gensim.models.word2vec.Vocab at 0x7fa07b499910>,\n",
       " u'avan\\xe7o': <gensim.models.word2vec.Vocab at 0x7fa07c339ad0>,\n",
       " u'avan\\xe7ou': <gensim.models.word2vec.Vocab at 0x7fa07b437890>,\n",
       " u'avenida': <gensim.models.word2vec.Vocab at 0x7fa07b6aad10>,\n",
       " u'aventura': <gensim.models.word2vec.Vocab at 0x7fa07d763c10>,\n",
       " u'avia\\xe7\\xe3o': <gensim.models.word2vec.Vocab at 0x7fa07c31c150>,\n",
       " u'avi\\xe3o': <gensim.models.word2vec.Vocab at 0x7fa07c320590>,\n",
       " u'avi\\xf5es': <gensim.models.word2vec.Vocab at 0x7fa07b523c90>,\n",
       " u'av\\xf4': <gensim.models.word2vec.Vocab at 0x7fa07c3d5350>,\n",
       " u'a\\xe7o': <gensim.models.word2vec.Vocab at 0x7fa07b2e4dd0>,\n",
       " u'a\\xe7\\xe3o': <gensim.models.word2vec.Vocab at 0x7fa07b85df50>,\n",
       " u'a\\xe7\\xf5es': <gensim.models.word2vec.Vocab at 0x7fa07d317590>,\n",
       " u'a\\xe7\\xfacar': <gensim.models.word2vec.Vocab at 0x7fa07b65c410>,\n",
       " u'a\\xe9cio': <gensim.models.word2vec.Vocab at 0x7fa07c33db10>,\n",
       " u'a\\xe9rea': <gensim.models.word2vec.Vocab at 0x7fa07c387850>,\n",
       " u'a\\xe9reo': <gensim.models.word2vec.Vocab at 0x7fa07cb12050>,\n",
       " u'a\\xe9reos': <gensim.models.word2vec.Vocab at 0x7fa07b625390>,\n",
       " u'a\\xed': <gensim.models.word2vec.Vocab at 0x7fa07d343950>,\n",
       " u'b': <gensim.models.word2vec.Vocab at 0x7fa07c84b510>,\n",
       " u'bacia': <gensim.models.word2vec.Vocab at 0x7fa07b854f10>,\n",
       " u'bahia': <gensim.models.word2vec.Vocab at 0x7fa07c353550>,\n",
       " u'baiana': <gensim.models.word2vec.Vocab at 0x7fa07c3f0450>,\n",
       " u'baiano': <gensim.models.word2vec.Vocab at 0x7fa07b493110>,\n",
       " u'bairro': <gensim.models.word2vec.Vocab at 0x7fa07cb17590>,\n",
       " u'bairros': <gensim.models.word2vec.Vocab at 0x7fa07b5284d0>,\n",
       " u'baixa': <gensim.models.word2vec.Vocab at 0x7fa07b733110>,\n",
       " u'baixo': <gensim.models.word2vec.Vocab at 0x7fa07cb17b90>,\n",
       " u'baixos': <gensim.models.word2vec.Vocab at 0x7fa07b3bd450>,\n",
       " u'balan\\xe7o': <gensim.models.word2vec.Vocab at 0x7fa07c3331d0>,\n",
       " u'bancada': <gensim.models.word2vec.Vocab at 0x7fa07d31df10>,\n",
       " u'banco': <gensim.models.word2vec.Vocab at 0x7fa07c321d50>,\n",
       " u'bancos': <gensim.models.word2vec.Vocab at 0x7fa07d77b050>,\n",
       " u'band': <gensim.models.word2vec.Vocab at 0x7fa07b56b8d0>,\n",
       " u'banda': <gensim.models.word2vec.Vocab at 0x7fa07b749f50>,\n",
       " u'bandeira': <gensim.models.word2vec.Vocab at 0x7fa07d77d6d0>,\n",
       " u'bandeirantes': <gensim.models.word2vec.Vocab at 0x7fa07c3e5350>,\n",
       " u'bandfoto': <gensim.models.word2vec.Vocab at 0x7fa07b56bd90>,\n",
       " u'banqueiros': <gensim.models.word2vec.Vocab at 0x7fa07b858450>,\n",
       " u'bar': <gensim.models.word2vec.Vocab at 0x7fa07b5bb490>,\n",
       " u'barbosa': <gensim.models.word2vec.Vocab at 0x7fa07b854490>,\n",
       " u'barra': <gensim.models.word2vec.Vocab at 0x7fa07b6f5750>,\n",
       " u'barros': <gensim.models.word2vec.Vocab at 0x7fa07b73df50>,\n",
       " u'base': <gensim.models.word2vec.Vocab at 0x7fa07d75c950>,\n",
       " u'baseada': <gensim.models.word2vec.Vocab at 0x7fa07b744b90>,\n",
       " u'baseado': <gensim.models.word2vec.Vocab at 0x7fa07b874410>,\n",
       " u'basta': <gensim.models.word2vec.Vocab at 0x7fa07b684a90>,\n",
       " u'bastante': <gensim.models.word2vec.Vocab at 0x7fa07d328290>,\n",
       " u'bastidores': <gensim.models.word2vec.Vocab at 0x7fa07cc8b150>,\n",
       " u'batalha': <gensim.models.word2vec.Vocab at 0x7fa07b62ce50>,\n",
       " u'bate': <gensim.models.word2vec.Vocab at 0x7fa07b86c4d0>,\n",
       " u'bater': <gensim.models.word2vec.Vocab at 0x7fa07c54d0d0>,\n",
       " u'bateu': <gensim.models.word2vec.Vocab at 0x7fa07b33f450>,\n",
       " u'batista': <gensim.models.word2vec.Vocab at 0x7fa07c35e210>,\n",
       " u'bbc': <gensim.models.word2vec.Vocab at 0x7fa07b874990>,\n",
       " u'bc': <gensim.models.word2vec.Vocab at 0x7fa07b74ffd0>,\n",
       " u'beb\\xea': <gensim.models.word2vec.Vocab at 0x7fa07b508c50>,\n",
       " u'beira': <gensim.models.word2vec.Vocab at 0x7fa07b41dd10>,\n",
       " u'bela': <gensim.models.word2vec.Vocab at 0x7fa07b7908d0>,\n",
       " u'beleza': <gensim.models.word2vec.Vocab at 0x7fa07b6fb6d0>,\n",
       " u'belo': <gensim.models.word2vec.Vocab at 0x7fa07c349190>,\n",
       " u'bem': <gensim.models.word2vec.Vocab at 0x7fa07d328fd0>,\n",
       " u'benef\\xedcio': <gensim.models.word2vec.Vocab at 0x7fa07b728ad0>,\n",
       " u'benef\\xedcios': <gensim.models.word2vec.Vocab at 0x7fa07b3fca10>,\n",
       " u'benfica': <gensim.models.word2vec.Vocab at 0x7fa07b0f5d10>,\n",
       " u'bens': <gensim.models.word2vec.Vocab at 0x7fa07b7ac4d0>,\n",
       " u'berlim': <gensim.models.word2vec.Vocab at 0x7fa07b2a73d0>,\n",
       " u'bernardo': <gensim.models.word2vec.Vocab at 0x7fa07c3f06d0>,\n",
       " u'beto': <gensim.models.word2vec.Vocab at 0x7fa07d343710>,\n",
       " u'bezerra': <gensim.models.word2vec.Vocab at 0x7fa07c527610>,\n",
       " u'bezerra/futura': <gensim.models.word2vec.Vocab at 0x7fa07b56b9d0>,\n",
       " u'bienal': <gensim.models.word2vec.Vocab at 0x7fa07c3e5d50>,\n",
       " u'bilh\\xe3o': <gensim.models.word2vec.Vocab at 0x7fa07d317410>,\n",
       " u'bilh\\xf5es': <gensim.models.word2vec.Vocab at 0x7fa07c3395d0>,\n",
       " u'bloco': <gensim.models.word2vec.Vocab at 0x7fa07b6a4e10>,\n",
       " u'blog': <gensim.models.word2vec.Vocab at 0x7fa07c337050>,\n",
       " u'bndes': <gensim.models.word2vec.Vocab at 0x7fa07b71d3d0>,\n",
       " u'boa': <gensim.models.word2vec.Vocab at 0x7fa07c341c10>,\n",
       " u'boas': <gensim.models.word2vec.Vocab at 0x7fa07b70eb90>,\n",
       " u'boatos': <gensim.models.word2vec.Vocab at 0x7fa07b728b50>,\n",
       " u'boca': <gensim.models.word2vec.Vocab at 0x7fa07b776d90>,\n",
       " u'bola': <gensim.models.word2vec.Vocab at 0x7fa07b72d650>,\n",
       " u'bolsa': <gensim.models.word2vec.Vocab at 0x7fa07b842ad0>,\n",
       " u'bolsas': <gensim.models.word2vec.Vocab at 0x7fa07b854f90>,\n",
       " u'bom': <gensim.models.word2vec.Vocab at 0x7fa07c341690>,\n",
       " u'bombeiros': <gensim.models.word2vec.Vocab at 0x7fa07b8318d0>,\n",
       " u'bondeblog': <gensim.models.word2vec.Vocab at 0x7fa07d32c910>,\n",
       " u'bonner': <gensim.models.word2vec.Vocab at 0x7fa07b854710>,\n",
       " u'bons': <gensim.models.word2vec.Vocab at 0x7fa07c3de8d0>,\n",
       " u'bordo': <gensim.models.word2vec.Vocab at 0x7fa07c3652d0>,\n",
       " u'bovespa': <gensim.models.word2vec.Vocab at 0x7fa07b4373d0>,\n",
       " u'br-': <gensim.models.word2vec.Vocab at 0x7fa07b3e5190>,\n",
       " u'branca': <gensim.models.word2vec.Vocab at 0x7fa07b493cd0>,\n",
       " u'branco': <gensim.models.word2vec.Vocab at 0x7fa07cb24950>,\n",
       " u'brancos': <gensim.models.word2vec.Vocab at 0x7fa07c82b110>,\n",
       " u'brasil': <gensim.models.word2vec.Vocab at 0x7fa07c334150>,\n",
       " u'brasila\\xe9cio': <gensim.models.word2vec.Vocab at 0x7fa07c3eead0>,\n",
       " u'brasilcandidato': <gensim.models.word2vec.Vocab at 0x7fa07c3f0ed0>,\n",
       " u'brasilcartaz': <gensim.models.word2vec.Vocab at 0x7fa07b55c7d0>,\n",
       " u'brasileira': <gensim.models.word2vec.Vocab at 0x7fa07c337910>,\n",
       " u'brasileiras': <gensim.models.word2vec.Vocab at 0x7fa07c529c50>,\n",
       " u'brasileiro': <gensim.models.word2vec.Vocab at 0x7fa07d7627d0>,\n",
       " u'brasileiros': <gensim.models.word2vec.Vocab at 0x7fa07cb12b50>,\n",
       " u'brasilhomem': <gensim.models.word2vec.Vocab at 0x7fa07b55c750>,\n",
       " u'bras\\xedlia': <gensim.models.word2vec.Vocab at 0x7fa07d32e610>,\n",
       " u'brazil': <gensim.models.word2vec.Vocab at 0x7fa07c519650>,\n",
       " u'bra\\xe7o': <gensim.models.word2vec.Vocab at 0x7fa07b71d490>,\n",
       " u'briga': <gensim.models.word2vec.Vocab at 0x7fa07b819fd0>,\n",
       " u'brito': <gensim.models.word2vec.Vocab at 0x7fa07b7e70d0>,\n",
       " u'brito/coliga\\xe7\\xe3o': <gensim.models.word2vec.Vocab at 0x7fa07c3f0e90>,\n",
       " u'brit\\xe2nico': <gensim.models.word2vec.Vocab at 0x7fa07b8745d0>,\n",
       " u'brown': <gensim.models.word2vec.Vocab at 0x7fa07b7ca550>,\n",
       " u'bruno': <gensim.models.word2vec.Vocab at 0x7fa07b7ac7d0>,\n",
       " u'bruto': <gensim.models.word2vec.Vocab at 0x7fa07b3098d0>,\n",
       " u'buenos': <gensim.models.word2vec.Vocab at 0x7fa07b661110>,\n",
       " u'busca': <gensim.models.word2vec.Vocab at 0x7fa07d760f50>,\n",
       " u'buscando': <gensim.models.word2vec.Vocab at 0x7fa07c333650>,\n",
       " u'buscar': <gensim.models.word2vec.Vocab at 0x7fa07b825850>,\n",
       " u'by': <gensim.models.word2vec.Vocab at 0x7fa07c35e390>,\n",
       " u'b\\xe1sica': <gensim.models.word2vec.Vocab at 0x7fa07b755cd0>,\n",
       " u'b\\xe1sico': <gensim.models.word2vec.Vocab at 0x7fa07b620fd0>,\n",
       " u'c': <gensim.models.word2vec.Vocab at 0x7fa07b770f10>,\n",
       " u'cabe': <gensim.models.word2vec.Vocab at 0x7fa07b8c7b10>,\n",
       " u'cabe\\xe7a': <gensim.models.word2vec.Vocab at 0x7fa07c34f5d0>,\n",
       " u'cabe\\xe7alho': <gensim.models.word2vec.Vocab at 0x7fa07b88b890>,\n",
       " u'cabo': <gensim.models.word2vec.Vocab at 0x7fa07b831650>,\n",
       " u'cada': <gensim.models.word2vec.Vocab at 0x7fa07c333710>,\n",
       " u'cadastro': <gensim.models.word2vec.Vocab at 0x7fa07bf1fc10>,\n",
       " u'cadeia': <gensim.models.word2vec.Vocab at 0x7fa07b40a1d0>,\n",
       " u'caf\\xe9': <gensim.models.word2vec.Vocab at 0x7fa07c353a50>,\n",
       " u'cai': <gensim.models.word2vec.Vocab at 0x7fa07b8bc4d0>,\n",
       " u'cair': <gensim.models.word2vec.Vocab at 0x7fa07cb24490>,\n",
       " u'caiu': <gensim.models.word2vec.Vocab at 0x7fa07d782890>,\n",
       " u'caixa': <gensim.models.word2vec.Vocab at 0x7fa07c320790>,\n",
       " u'caixa-preta': <gensim.models.word2vec.Vocab at 0x7fa07b700f10>,\n",
       " u'caixas': <gensim.models.word2vec.Vocab at 0x7fa07d782550>,\n",
       " u'caix\\xe3o': <gensim.models.word2vec.Vocab at 0x7fa07b8cc190>,\n",
       " u'cambial': <gensim.models.word2vec.Vocab at 0x7fa07b232c90>,\n",
       " u'camilo': <gensim.models.word2vec.Vocab at 0x7fa07b8bc610>,\n",
       " u'caminha': <gensim.models.word2vec.Vocab at 0x7fa07c3de350>,\n",
       " u'caminhada': <gensim.models.word2vec.Vocab at 0x7fa07c334750>,\n",
       " u'caminho': <gensim.models.word2vec.Vocab at 0x7fa07c341350>,\n",
       " u'caminhos': <gensim.models.word2vec.Vocab at 0x7fa07cb1db90>,\n",
       " u'caminh\\xe3o': <gensim.models.word2vec.Vocab at 0x7fa07b831890>,\n",
       " u'caminh\\xf5es': <gensim.models.word2vec.Vocab at 0x7fa07b633b90>,\n",
       " u'campal': <gensim.models.word2vec.Vocab at 0x7fa07b61a610>,\n",
       " u'campanha': <gensim.models.word2vec.Vocab at 0x7fa07c33b8d0>,\n",
       " u'campanhas': <gensim.models.word2vec.Vocab at 0x7fa07c32b310>,\n",
       " u'campeonato': <gensim.models.word2vec.Vocab at 0x7fa07b2c0590>,\n",
       " u'campo': <gensim.models.word2vec.Vocab at 0x7fa07c333610>,\n",
       " u'campos': <gensim.models.word2vec.Vocab at 0x7fa07c341a90>,\n",
       " u'camposeduardo': <gensim.models.word2vec.Vocab at 0x7fa07c385050>,\n",
       " u'camposfoto': <gensim.models.word2vec.Vocab at 0x7fa07b57fa10>,\n",
       " u'canad\\xe1': <gensim.models.word2vec.Vocab at 0x7fa07b75b150>,\n",
       " u'canal': <gensim.models.word2vec.Vocab at 0x7fa07c3e4890>,\n",
       " u'candidata': <gensim.models.word2vec.Vocab at 0x7fa07c321e90>,\n",
       " u'candidato': <gensim.models.word2vec.Vocab at 0x7fa07c337650>,\n",
       " u'candidatos': <gensim.models.word2vec.Vocab at 0x7fa07cb20590>,\n",
       " u'candidatura': <gensim.models.word2vec.Vocab at 0x7fa07c341410>,\n",
       " u'candidaturas': <gensim.models.word2vec.Vocab at 0x7fa07c829490>,\n",
       " u'cantor': <gensim.models.word2vec.Vocab at 0x7fa07b3108d0>,\n",
       " u'cantora': <gensim.models.word2vec.Vocab at 0x7fa07b1c8a90>,\n",
       " u'can\\xe7\\xf5es': <gensim.models.word2vec.Vocab at 0x7fa07c552490>,\n",
       " u'capa': <gensim.models.word2vec.Vocab at 0x7fa07c82c950>,\n",
       " u'capacidade': <gensim.models.word2vec.Vocab at 0x7fa07d32c810>,\n",
       " u'capaz': <gensim.models.word2vec.Vocab at 0x7fa07c33b6d0>,\n",
       " u'capital': <gensim.models.word2vec.Vocab at 0x7fa07c34f150>,\n",
       " u'capit\\xe3o': <gensim.models.word2vec.Vocab at 0x7fa07b1d4b10>,\n",
       " u'cara': <gensim.models.word2vec.Vocab at 0x7fa07b762550>,\n",
       " u'caracter\\xedsticas': <gensim.models.word2vec.Vocab at 0x7fa07d760050>,\n",
       " u'caravana': <gensim.models.word2vec.Vocab at 0x7fa07b09f410>,\n",
       " u'cardoso': <gensim.models.word2vec.Vocab at 0x7fa07c334f50>,\n",
       " u'carga': <gensim.models.word2vec.Vocab at 0x7fa07b6f5b90>,\n",
       " u'cargo': <gensim.models.word2vec.Vocab at 0x7fa07d7aa1d0>,\n",
       " u'cargos': <gensim.models.word2vec.Vocab at 0x7fa07b7b1f10>,\n",
       " u'carlos': <gensim.models.word2vec.Vocab at 0x7fa07c31c510>,\n",
       " u'carlos\\xe0s': <gensim.models.word2vec.Vocab at 0x7fa07c321a10>,\n",
       " u'caro': <gensim.models.word2vec.Vocab at 0x7fa07b88b550>,\n",
       " u'carolina': <gensim.models.word2vec.Vocab at 0x7fa07c3e4dd0>,\n",
       " u'carreata': <gensim.models.word2vec.Vocab at 0x7fa07c3eee50>,\n",
       " u'carrega': <gensim.models.word2vec.Vocab at 0x7fa07c34f650>,\n",
       " u'carregam': <gensim.models.word2vec.Vocab at 0x7fa07b555e90>,\n",
       " u'carreira': <gensim.models.word2vec.Vocab at 0x7fa07b848090>,\n",
       " u'carro': <gensim.models.word2vec.Vocab at 0x7fa07b837210>,\n",
       " u'carros': <gensim.models.word2vec.Vocab at 0x7fa07b55cfd0>,\n",
       " u'carta': <gensim.models.word2vec.Vocab at 0x7fa07c34f110>,\n",
       " u'cartaz': <gensim.models.word2vec.Vocab at 0x7fa07b555650>,\n",
       " u'cartazes': <gensim.models.word2vec.Vocab at 0x7fa07b55c910>,\n",
       " u'carteira': <gensim.models.word2vec.Vocab at 0x7fa07b5bbe10>,\n",
       " u'cartel': <gensim.models.word2vec.Vocab at 0x7fa07b5c2790>,\n",
       " u'cart\\xe3o': <gensim.models.word2vec.Vocab at 0x7fa07b708b50>,\n",
       " u'cart\\xf5es': <gensim.models.word2vec.Vocab at 0x7fa07c5747d0>,\n",
       " u'carvalho': <gensim.models.word2vec.Vocab at 0x7fa07b6b0bd0>,\n",
       " u'car\\xe1ter': <gensim.models.word2vec.Vocab at 0x7fa07c341950>,\n",
       " u'casa': <gensim.models.word2vec.Vocab at 0x7fa07cb175d0>,\n",
       " u'casal': <gensim.models.word2vec.Vocab at 0x7fa07cc61f10>,\n",
       " u'casamento': <gensim.models.word2vec.Vocab at 0x7fa07c815c10>,\n",
       " u'casas': <gensim.models.word2vec.Vocab at 0x7fa07b8373d0>,\n",
       " u'caso': <gensim.models.word2vec.Vocab at 0x7fa07c341d10>,\n",
       " u'casos': <gensim.models.word2vec.Vocab at 0x7fa07c334c90>,\n",
       " u'castro': <gensim.models.word2vec.Vocab at 0x7fa07b879cd0>,\n",
       " u'catarina': <gensim.models.word2vec.Vocab at 0x7fa07d343e90>,\n",
       " u'categoria': <gensim.models.word2vec.Vocab at 0x7fa07c321b50>,\n",
       " u'caucaia': <gensim.models.word2vec.Vocab at 0x7fa07c931550>,\n",
       " u'causa': <gensim.models.word2vec.Vocab at 0x7fa07c33b410>,\n",
       " u'causados': <gensim.models.word2vec.Vocab at 0x7fa07b3ceb50>,\n",
       " u'causas': <gensim.models.word2vec.Vocab at 0x7fa07c527910>,\n",
       " u'causou': <gensim.models.word2vec.Vocab at 0x7fa07b7ed5d0>,\n",
       " u'ca\\xedram': <gensim.models.word2vec.Vocab at 0x7fa07c3dec90>,\n",
       " u'ce': <gensim.models.word2vec.Vocab at 0x7fa07b749ad0>,\n",
       " u'cearense': <gensim.models.word2vec.Vocab at 0x7fa07b41da50>,\n",
       " u'cearenses': <gensim.models.word2vec.Vocab at 0x7fa07b419bd0>,\n",
       " u'cear\\xe1': <gensim.models.word2vec.Vocab at 0x7fa07c8281d0>,\n",
       " u'cec\\xedlia': <gensim.models.word2vec.Vocab at 0x7fa07b555210>,\n",
       " u'cedo': <gensim.models.word2vec.Vocab at 0x7fa07d762f50>,\n",
       " u'celebrada': <gensim.models.word2vec.Vocab at 0x7fa07b61a310>,\n",
       " u'celular': <gensim.models.word2vec.Vocab at 0x7fa07b336050>,\n",
       " u'celvio\\xe0s': <gensim.models.word2vec.Vocab at 0x7fa07d763cd0>,\n",
       " u'cemit\\xe9rio': <gensim.models.word2vec.Vocab at 0x7fa07cc5dd90>,\n",
       " u'cena': <gensim.models.word2vec.Vocab at 0x7fa07c334850>,\n",
       " u'cenas': <gensim.models.word2vec.Vocab at 0x7fa07c3d5b90>,\n",
       " u'cenipa': <gensim.models.word2vec.Vocab at 0x7fa07b45a690>,\n",
       " u'centenas': <gensim.models.word2vec.Vocab at 0x7fa07b8c7e50>,\n",
       " u'center': <gensim.models.word2vec.Vocab at 0x7fa07b5a0f50>,\n",
       " u'centerplex': <gensim.models.word2vec.Vocab at 0x7fa07b103790>,\n",
       " u'cento': <gensim.models.word2vec.Vocab at 0x7fa07b67ddd0>,\n",
       " u'central': <gensim.models.word2vec.Vocab at 0x7fa07c320890>,\n",
       " u'centro': <gensim.models.word2vec.Vocab at 0x7fa07d32ecd0>,\n",
       " u'centros': <gensim.models.word2vec.Vocab at 0x7fa07b451110>,\n",
       " u'cen\\xe1rio': <gensim.models.word2vec.Vocab at 0x7fa07cb1bd90>,\n",
       " u'cen\\xe1rios': <gensim.models.word2vec.Vocab at 0x7fa07cb20710>,\n",
       " u'cerca': <gensim.models.word2vec.Vocab at 0x7fa07d32e0d0>,\n",
       " u'cerim\\xf4nia': <gensim.models.word2vec.Vocab at 0x7fa07b61a3d0>,\n",
       " u'certa': <gensim.models.word2vec.Vocab at 0x7fa07d31d650>,\n",
       " u'certame': <gensim.models.word2vec.Vocab at 0x7fa07bf22190>,\n",
       " u'certamente': <gensim.models.word2vec.Vocab at 0x7fa07c815510>,\n",
       " u'certeza': <gensim.models.word2vec.Vocab at 0x7fa07c82b9d0>,\n",
       " u'certo': <gensim.models.word2vec.Vocab at 0x7fa07c32bcd0>,\n",
       " u'cessar-fogo': <gensim.models.word2vec.Vocab at 0x7fa07b236f90>,\n",
       " u'cessna': <gensim.models.word2vec.Vocab at 0x7fa07c3205d0>,\n",
       " u'chama': <gensim.models.word2vec.Vocab at 0x7fa07cc791d0>,\n",
       " u'chamada': <gensim.models.word2vec.Vocab at 0x7fa07b7c4890>,\n",
       " u'chamado': <gensim.models.word2vec.Vocab at 0x7fa07d32e590>,\n",
       " u'chamar': <gensim.models.word2vec.Vocab at 0x7fa07c54d490>,\n",
       " u'chamou': <gensim.models.word2vec.Vocab at 0x7fa07b4f9550>,\n",
       " u'chance': <gensim.models.word2vec.Vocab at 0x7fa07c34fcd0>,\n",
       " u'chances': <gensim.models.word2vec.Vocab at 0x7fa07c320f50>,\n",
       " u'chapa': <gensim.models.word2vec.Vocab at 0x7fa07c34f610>,\n",
       " u'chapafoto': <gensim.models.word2vec.Vocab at 0x7fa07c3e4b90>,\n",
       " u'chefe': <gensim.models.word2vec.Vocab at 0x7fa07cc71050>,\n",
       " u'chega': <gensim.models.word2vec.Vocab at 0x7fa07c3ded90>,\n",
       " u'chegada': <gensim.models.word2vec.Vocab at 0x7fa07b6c6fd0>,\n",
       " u'chegam': <gensim.models.word2vec.Vocab at 0x7fa07c353710>,\n",
       " u'chegando': <gensim.models.word2vec.Vocab at 0x7fa07b570cd0>,\n",
       " u'chegar': <gensim.models.word2vec.Vocab at 0x7fa07c33bd50>,\n",
       " u'chegaram': <gensim.models.word2vec.Vocab at 0x7fa07c3879d0>,\n",
       " u'chegou': <gensim.models.word2vec.Vocab at 0x7fa07c527850>,\n",
       " u'cheio': <gensim.models.word2vec.Vocab at 0x7fa07cb129d0>,\n",
       " u'chico': <gensim.models.word2vec.Vocab at 0x7fa07d77d310>,\n",
       " u'chile': <gensim.models.word2vec.Vocab at 0x7fa07b70d050>,\n",
       " u'china': <gensim.models.word2vec.Vocab at 0x7fa07b75b190>,\n",
       " u'choque': <gensim.models.word2vec.Vocab at 0x7fa07d75cc50>,\n",
       " u'chuva': <gensim.models.word2vec.Vocab at 0x7fa07b398050>,\n",
       " u'chuvas': <gensim.models.word2vec.Vocab at 0x7fa07b21cdd0>,\n",
       " u'ch\\xe3o': <gensim.models.word2vec.Vocab at 0x7fa07c53a610>,\n",
       " u'cia': <gensim.models.word2vec.Vocab at 0x7fa07b6531d0>,\n",
       " u'ciclo': <gensim.models.word2vec.Vocab at 0x7fa07c31ce10>,\n",
       " u'cid': <gensim.models.word2vec.Vocab at 0x7fa07b8bc490>,\n",
       " u'cidadania': <gensim.models.word2vec.Vocab at 0x7fa07b739b50>,\n",
       " u'cidade': <gensim.models.word2vec.Vocab at 0x7fa07c3f08d0>,\n",
       " u'cidades': <gensim.models.word2vec.Vocab at 0x7fa07b787bd0>,\n",
       " u'cidad\\xe3o': <gensim.models.word2vec.Vocab at 0x7fa07b7b1f90>,\n",
       " u'cidad\\xe3os': <gensim.models.word2vec.Vocab at 0x7fa07c844f50>,\n",
       " u'cientista': <gensim.models.word2vec.Vocab at 0x7fa07cb1bbd0>,\n",
       " u'cientistas': <gensim.models.word2vec.Vocab at 0x7fa07cb207d0>,\n",
       " u'cient\\xedfica': <gensim.models.word2vec.Vocab at 0x7fa07b7d3c90>,\n",
       " u'cima': <gensim.models.word2vec.Vocab at 0x7fa07c52d650>,\n",
       " u'cinco': <gensim.models.word2vec.Vocab at 0x7fa07c337250>,\n",
       " u'cine': <gensim.models.word2vec.Vocab at 0x7fa07b103810>,\n",
       " u'cinegrafista': <gensim.models.word2vec.Vocab at 0x7fa07c387bd0>,\n",
       " u'cinema': <gensim.models.word2vec.Vocab at 0x7fa07b21c390>,\n",
       " u'citados': <gensim.models.word2vec.Vocab at 0x7fa07b8c7110>,\n",
       " u'citation': <gensim.models.word2vec.Vocab at 0x7fa07c320610>,\n",
       " u'citou': <gensim.models.word2vec.Vocab at 0x7fa07c82c610>,\n",
       " u'civil': <gensim.models.word2vec.Vocab at 0x7fa07c31c190>,\n",
       " u'civis': <gensim.models.word2vec.Vocab at 0x7fa07cb1b090>,\n",
       " u'ci\\xeancia': <gensim.models.word2vec.Vocab at 0x7fa07b653c50>,\n",
       " u'ci\\xeancias': <gensim.models.word2vec.Vocab at 0x7fa07c3d5550>,\n",
       " u'clara': <gensim.models.word2vec.Vocab at 0x7fa07c385290>,\n",
       " u'claramente': <gensim.models.word2vec.Vocab at 0x7fa07b88bd50>,\n",
       " u'claro': <gensim.models.word2vec.Vocab at 0x7fa07d317950>,\n",
       " u'classe': <gensim.models.word2vec.Vocab at 0x7fa07b831750>,\n",
       " u'cliente': <gensim.models.word2vec.Vocab at 0x7fa07b70e3d0>,\n",
       " u'clientes': <gensim.models.word2vec.Vocab at 0x7fa07b7824d0>,\n",
       " u'clima': <gensim.models.word2vec.Vocab at 0x7fa07c31cad0>,\n",
       " u'clique': <gensim.models.word2vec.Vocab at 0x7fa07b87f110>,\n",
       " u'clube': <gensim.models.word2vec.Vocab at 0x7fa07b7bf810>,\n",
       " u'cl\\xe1udio': <gensim.models.word2vec.Vocab at 0x7fa07c321c10>,\n",
       " u'cl\\xe9lio': <gensim.models.word2vec.Vocab at 0x7fa07b555ed0>,\n",
       " u'cni': <gensim.models.word2vec.Vocab at 0x7fa07c353650>,\n",
       " u'cobertura': <gensim.models.word2vec.Vocab at 0x7fa07c337790>,\n",
       " u'cobran\\xe7a': <gensim.models.word2vec.Vocab at 0x7fa07b678d50>,\n",
       " u'coca\\xedna': <gensim.models.word2vec.Vocab at 0x7fa07b16f690>,\n",
       " u'coelho': <gensim.models.word2vec.Vocab at 0x7fa07b8c71d0>,\n",
       " u'coelhofoto': <gensim.models.word2vec.Vocab at 0x7fa07c3e49d0>,\n",
       " u'coisa': <gensim.models.word2vec.Vocab at 0x7fa07c52dbd0>,\n",
       " u'coisas': <gensim.models.word2vec.Vocab at 0x7fa07cc71b90>,\n",
       " u'colega': <gensim.models.word2vec.Vocab at 0x7fa07cc74610>,\n",
       " u'colegas': <gensim.models.word2vec.Vocab at 0x7fa07cb1ded0>,\n",
       " u'coletiva': <gensim.models.word2vec.Vocab at 0x7fa07cb1bad0>,\n",
       " u'coletivo': <gensim.models.word2vec.Vocab at 0x7fa07c353bd0>,\n",
       " u'cole\\xe7\\xe3o': <gensim.models.word2vec.Vocab at 0x7fa07b09fc50>,\n",
       " u'coligados': <gensim.models.word2vec.Vocab at 0x7fa07c3663d0>,\n",
       " u'coliga\\xe7\\xe3o': <gensim.models.word2vec.Vocab at 0x7fa07d328f10>,\n",
       " u'colis\\xe3o': <gensim.models.word2vec.Vocab at 0x7fa07b440f10>,\n",
       " u'collor': <gensim.models.word2vec.Vocab at 0x7fa07cb1b650>,\n",
       " u'colo': <gensim.models.word2vec.Vocab at 0x7fa07c3f0710>,\n",
       " u'coloca': <gensim.models.word2vec.Vocab at 0x7fa07c35efd0>,\n",
       " u'colocada': <gensim.models.word2vec.Vocab at 0x7fa07c828450>,\n",
       " u'colocado': <gensim.models.word2vec.Vocab at 0x7fa07d328710>,\n",
       " u'colocados': <gensim.models.word2vec.Vocab at 0x7fa07c3dee10>,\n",
       " u'colocar': <gensim.models.word2vec.Vocab at 0x7fa07c32bd10>,\n",
       " u'colocou': <gensim.models.word2vec.Vocab at 0x7fa07c3e5210>,\n",
       " u'coluna': <gensim.models.word2vec.Vocab at 0x7fa07cb17850>,\n",
       " u'colunista': <gensim.models.word2vec.Vocab at 0x7fa07c366750>,\n",
       " u'com': <gensim.models.word2vec.Vocab at 0x7fa07c33dad0>,\n",
       " u'comandante': <gensim.models.word2vec.Vocab at 0x7fa07b6253d0>,\n",
       " u'comando': <gensim.models.word2vec.Vocab at 0x7fa07d343f10>,\n",
       " u'comandou': <gensim.models.word2vec.Vocab at 0x7fa07c3612d0>,\n",
       " u'combate': <gensim.models.word2vec.Vocab at 0x7fa07d77b4d0>,\n",
       " u'combater': <gensim.models.word2vec.Vocab at 0x7fa07d77da90>,\n",
       " u'comboio': <gensim.models.word2vec.Vocab at 0x7fa07b5239d0>,\n",
       " u'comemora': <gensim.models.word2vec.Vocab at 0x7fa07c3e4c10>,\n",
       " u'comemorou': <gensim.models.word2vec.Vocab at 0x7fa07c3eee90>,\n",
       " u'comentar': <gensim.models.word2vec.Vocab at 0x7fa07b5c7090>,\n",
       " u'comentou': <gensim.models.word2vec.Vocab at 0x7fa07cc717d0>,\n",
       " u'coment\\xe1rio': <gensim.models.word2vec.Vocab at 0x7fa07c337f50>,\n",
       " u'coment\\xe1rios': <gensim.models.word2vec.Vocab at 0x7fa07d763d50>,\n",
       " u'comerciais': <gensim.models.word2vec.Vocab at 0x7fa07b6ea290>,\n",
       " u'comercial': <gensim.models.word2vec.Vocab at 0x7fa07b6da250>,\n",
       " u'come\\xe7a': <gensim.models.word2vec.Vocab at 0x7fa07c33bbd0>,\n",
       " u'come\\xe7am': <gensim.models.word2vec.Vocab at 0x7fa07b64ed90>,\n",
       " u'come\\xe7ando': <gensim.models.word2vec.Vocab at 0x7fa07c33d750>,\n",
       " u'come\\xe7ar': <gensim.models.word2vec.Vocab at 0x7fa07c387310>,\n",
       " u'come\\xe7aram': <gensim.models.word2vec.Vocab at 0x7fa07c515cd0>,\n",
       " u'come\\xe7o': <gensim.models.word2vec.Vocab at 0x7fa07b86cf10>,\n",
       " u'come\\xe7ou': <gensim.models.word2vec.Vocab at 0x7fa07c321f90>,\n",
       " u'comiss\\xe3o': <gensim.models.word2vec.Vocab at 0x7fa07c515110>,\n",
       " u'comitiva': <gensim.models.word2vec.Vocab at 0x7fa07b61a590>,\n",
       " u'comit\\xea': <gensim.models.word2vec.Vocab at 0x7fa07c349990>,\n",
       " u'como': <gensim.models.word2vec.Vocab at 0x7fa07c333110>,\n",
       " u'como\\xe7\\xe3o': <gensim.models.word2vec.Vocab at 0x7fa07c33d350>,\n",
       " u'companheira': <gensim.models.word2vec.Vocab at 0x7fa07c38fe10>,\n",
       " u'companheiro': <gensim.models.word2vec.Vocab at 0x7fa07c82c510>,\n",
       " u'companhia': <gensim.models.word2vec.Vocab at 0x7fa07d317fd0>,\n",
       " u'companhias': <gensim.models.word2vec.Vocab at 0x7fa07d317a10>,\n",
       " u'compara\\xe7\\xe3o': <gensim.models.word2vec.Vocab at 0x7fa07b7553d0>,\n",
       " u'competi\\xe7\\xe3o': <gensim.models.word2vec.Vocab at 0x7fa07b2643d0>,\n",
       " u'compet\\xeancia': <gensim.models.word2vec.Vocab at 0x7fa07b5bba50>,\n",
       " u'completa': <gensim.models.word2vec.Vocab at 0x7fa07b620910>,\n",
       " u'completamente': <gensim.models.word2vec.Vocab at 0x7fa07cc71790>,\n",
       " u'completo': <gensim.models.word2vec.Vocab at 0x7fa07c387550>,\n",
       " u'complexo': <gensim.models.word2vec.Vocab at 0x7fa07b5756d0>,\n",
       " u'comportamento': <gensim.models.word2vec.Vocab at 0x7fa07c334650>,\n",
       " u'composi\\xe7\\xe3o': <gensim.models.word2vec.Vocab at 0x7fa07b86cf50>,\n",
       " u'composto': <gensim.models.word2vec.Vocab at 0x7fa07b50da90>,\n",
       " u'compra': <gensim.models.word2vec.Vocab at 0x7fa07c341810>,\n",
       " u'comprar': <gensim.models.word2vec.Vocab at 0x7fa07c0c5b50>,\n",
       " u'compras': <gensim.models.word2vec.Vocab at 0x7fa07b437550>,\n",
       " u'compromisso': <gensim.models.word2vec.Vocab at 0x7fa07c334050>,\n",
       " u'compromissos': <gensim.models.word2vec.Vocab at 0x7fa07c321250>,\n",
       " u'comum': <gensim.models.word2vec.Vocab at 0x7fa07c3f4550>,\n",
       " u'comunicado': <gensim.models.word2vec.Vocab at 0x7fa07b813a10>,\n",
       " u'comunica\\xe7\\xe3o': <gensim.models.word2vec.Vocab at 0x7fa07d760e90>,\n",
       " u'comunidade': <gensim.models.word2vec.Vocab at 0x7fa07c3eebd0>,\n",
       " u'com\\xe9dia': <gensim.models.word2vec.Vocab at 0x7fa07c86a490>,\n",
       " u'com\\xe9rcio': <gensim.models.word2vec.Vocab at 0x7fa07b6ef850>,\n",
       " u'concedeu': <gensim.models.word2vec.Vocab at 0x7fa07b87f8d0>,\n",
       " u'conceito': <gensim.models.word2vec.Vocab at 0x7fa07c385b10>,\n",
       " u'concentra\\xe7\\xe3o': <gensim.models.word2vec.Vocab at 0x7fa07b80b750>,\n",
       " u'concess\\xe3o': <gensim.models.word2vec.Vocab at 0x7fa07c56c750>,\n",
       " u'concluiu': <gensim.models.word2vec.Vocab at 0x7fa07b790cd0>,\n",
       " u'conclus\\xe3o': <gensim.models.word2vec.Vocab at 0x7fa07b7ac810>,\n",
       " u'concorre': <gensim.models.word2vec.Vocab at 0x7fa07cb17810>,\n",
       " u'concorrente': <gensim.models.word2vec.Vocab at 0x7fa07c3e5290>,\n",
       " u'concorrentes': <gensim.models.word2vec.Vocab at 0x7fa07d77dc50>,\n",
       " u'concorrer': <gensim.models.word2vec.Vocab at 0x7fa07c31ca90>,\n",
       " u'concorr\\xeancia': <gensim.models.word2vec.Vocab at 0x7fa07b6971d0>,\n",
       " u'concurso': <gensim.models.word2vec.Vocab at 0x7fa07b3c5f50>,\n",
       " u'condenado': <gensim.models.word2vec.Vocab at 0x7fa07b2d4590>,\n",
       " u'condi\\xe7\\xe3o': <gensim.models.word2vec.Vocab at 0x7fa07d77d410>,\n",
       " u'condi\\xe7\\xf5es': <gensim.models.word2vec.Vocab at 0x7fa07c334a10>,\n",
       " u'condutor': <gensim.models.word2vec.Vocab at 0x7fa07b795110>,\n",
       " u'condu\\xe7\\xe3o': <gensim.models.word2vec.Vocab at 0x7fa07c385410>,\n",
       " u'confedera\\xe7\\xe3o': <gensim.models.word2vec.Vocab at 0x7fa07b749c50>,\n",
       " u'conferir': <gensim.models.word2vec.Vocab at 0x7fa07b87f150>,\n",
       " u'confian\\xe7a': <gensim.models.word2vec.Vocab at 0x7fa07cb42950>,\n",
       " u'confira': <gensim.models.word2vec.Vocab at 0x7fa07b7ac190>,\n",
       " u'confirmada': <gensim.models.word2vec.Vocab at 0x7fa07c82b310>,\n",
       " u'confirmar': <gensim.models.word2vec.Vocab at 0x7fa07c82bd50>,\n",
       " u'confirmaram': <gensim.models.word2vec.Vocab at 0x7fa07b528750>,\n",
       " u'confirma\\xe7\\xe3o': <gensim.models.word2vec.Vocab at 0x7fa07c519d90>,\n",
       " u'confirmou': <gensim.models.word2vec.Vocab at 0x7fa07c84be50>,\n",
       " u'conflito': <gensim.models.word2vec.Vocab at 0x7fa07b692a50>,\n",
       " u'conflitos': <gensim.models.word2vec.Vocab at 0x7fa07cc89e10>,\n",
       " u'conforme': <gensim.models.word2vec.Vocab at 0x7fa07c84b910>,\n",
       " u'conforta': <gensim.models.word2vec.Vocab at 0x7fa07c361890>,\n",
       " u'confronto': <gensim.models.word2vec.Vocab at 0x7fa07c2a5c90>,\n",
       " u'confrontos': <gensim.models.word2vec.Vocab at 0x7fa07b4efd10>,\n",
       " u'congresso': <gensim.models.word2vec.Vocab at 0x7fa07c361b50>,\n",
       " u'conhece': <gensim.models.word2vec.Vocab at 0x7fa07b8c73d0>,\n",
       " u'conhecer': <gensim.models.word2vec.Vocab at 0x7fa07b661190>,\n",
       " u'conhecida': <gensim.models.word2vec.Vocab at 0x7fa07c339390>,\n",
       " u'conhecido': <gensim.models.word2vec.Vocab at 0x7fa07c33d090>,\n",
       " u'conhecidos': <gensim.models.word2vec.Vocab at 0x7fa07b7a2990>,\n",
       " u'conhecimento': <gensim.models.word2vec.Vocab at 0x7fa07c52db10>,\n",
       " u'conhecimentos': <gensim.models.word2vec.Vocab at 0x7fa07b40a050>,\n",
       " u'conjunto': <gensim.models.word2vec.Vocab at 0x7fa07c353250>,\n",
       " u'conquistar': <gensim.models.word2vec.Vocab at 0x7fa07b4a7890>,\n",
       " u'consci\\xeancia': <gensim.models.word2vec.Vocab at 0x7fa07c52d910>,\n",
       " u'consecutivo': <gensim.models.word2vec.Vocab at 0x7fa07c527e90>,\n",
       " u'consegue': <gensim.models.word2vec.Vocab at 0x7fa07c51e550>,\n",
       " u'conseguido': <gensim.models.word2vec.Vocab at 0x7fa07cb12790>,\n",
       " u'conseguir': <gensim.models.word2vec.Vocab at 0x7fa07cb12290>,\n",
       " u'conseguiram': <gensim.models.word2vec.Vocab at 0x7fa07b32b750>,\n",
       " u'conseguiu': <gensim.models.word2vec.Vocab at 0x7fa08c6a7d50>,\n",
       " u'conselho': <gensim.models.word2vec.Vocab at 0x7fa07b85de90>,\n",
       " u'conselhos': <gensim.models.word2vec.Vocab at 0x7fa07b842790>,\n",
       " u'consenso': <gensim.models.word2vec.Vocab at 0x7fa07b79b890>,\n",
       " u'consequ\\xeancia': <gensim.models.word2vec.Vocab at 0x7fa07b81f510>,\n",
       " u'consequ\\xeancias': <gensim.models.word2vec.Vocab at 0x7fa07cc71990>,\n",
       " u'conservadores': <gensim.models.word2vec.Vocab at 0x7fa07d75c550>,\n",
       " u'considera': <gensim.models.word2vec.Vocab at 0x7fa07b848850>,\n",
       " u'considerada': <gensim.models.word2vec.Vocab at 0x7fa07c527110>,\n",
       " u'considerado': <gensim.models.word2vec.Vocab at 0x7fa07b5ce210>,\n",
       " u'consideram': <gensim.models.word2vec.Vocab at 0x7fa07c4014d0>,\n",
       " u'considerando': <gensim.models.word2vec.Vocab at 0x7fa07b862550>,\n",
       " u'considerar': <gensim.models.word2vec.Vocab at 0x7fa07b768410>,\n",
       " u'consigo': <gensim.models.word2vec.Vocab at 0x7fa07b762b90>,\n",
       " u'constitui\\xe7\\xe3o': <gensim.models.word2vec.Vocab at 0x7fa07b74f5d0>,\n",
       " u'construir': <gensim.models.word2vec.Vocab at 0x7fa07c828510>,\n",
       " u'constru\\xe7\\xe3o': <gensim.models.word2vec.Vocab at 0x7fa07c844690>,\n",
       " u'constru\\xeddo': <gensim.models.word2vec.Vocab at 0x7fa07c334c50>,\n",
       " u'consulta': <gensim.models.word2vec.Vocab at 0x7fa07b86c310>,\n",
       " u'consultoria': <gensim.models.word2vec.Vocab at 0x7fa07b879d10>,\n",
       " u'consumidor': <gensim.models.word2vec.Vocab at 0x7fa07b755ed0>,\n",
       " u'consumidores': <gensim.models.word2vec.Vocab at 0x7fa07c2c2810>,\n",
       " u'consumo': <gensim.models.word2vec.Vocab at 0x7fa07b6ef110>,\n",
       " u'conta': <gensim.models.word2vec.Vocab at 0x7fa07cb12dd0>,\n",
       " u'contar': <gensim.models.word2vec.Vocab at 0x7fa07c32be50>,\n",
       " u'contar\\xe1': <gensim.models.word2vec.Vocab at 0x7fa07b7b79d0>,\n",
       " u'contas': <gensim.models.word2vec.Vocab at 0x7fa07c829310>,\n",
       " u'contato': <gensim.models.word2vec.Vocab at 0x7fa07cc61590>,\n",
       " u'conter': <gensim.models.word2vec.Vocab at 0x7fa07c32b190>,\n",
       " u'contexto': <gensim.models.word2vec.Vocab at 0x7fa07c321ad0>,\n",
       " u'conte\\xfado': <gensim.models.word2vec.Vocab at 0x7fa07b874b90>,\n",
       " u'continente': <gensim.models.word2vec.Vocab at 0x7fa07b2644d0>,\n",
       " u'continua': <gensim.models.word2vec.Vocab at 0x7fa07d32c790>,\n",
       " u'continuam': <gensim.models.word2vec.Vocab at 0x7fa07b813310>,\n",
       " u'continuar': <gensim.models.word2vec.Vocab at 0x7fa07d763b10>,\n",
       " u'continuar\\xe1': <gensim.models.word2vec.Vocab at 0x7fa07c0c5d50>,\n",
       " u'continue': <gensim.models.word2vec.Vocab at 0x7fa07b862fd0>,\n",
       " u'continuidade': <gensim.models.word2vec.Vocab at 0x7fa07b8c2e10>,\n",
       " u'continuou': <gensim.models.word2vec.Vocab at 0x7fa07cc5d990>,\n",
       " u'contou': <gensim.models.word2vec.Vocab at 0x7fa07b81f410>,\n",
       " u'contra': <gensim.models.word2vec.Vocab at 0x7fa07c33b910>,\n",
       " u'contradi\\xe7\\xf5es': <gensim.models.word2vec.Vocab at 0x7fa07c34f7d0>,\n",
       " u'contrapontopig': <gensim.models.word2vec.Vocab at 0x7fa07d763d90>,\n",
       " u'contrata\\xe7\\xe3o': <gensim.models.word2vec.Vocab at 0x7fa07b42fad0>,\n",
       " u'contrato': <gensim.models.word2vec.Vocab at 0x7fa07b7f8c90>,\n",
       " u'contratos': <gensim.models.word2vec.Vocab at 0x7fa07b7e7450>,\n",
       " u'contribui\\xe7\\xe3o': <gensim.models.word2vec.Vocab at 0x7fa07b653090>,\n",
       " u'contributing': <gensim.models.word2vec.Vocab at 0x7fa07c5195d0>,\n",
       " u'controlada': <gensim.models.word2vec.Vocab at 0x7fa07b59b490>,\n",
       " u'controlar': <gensim.models.word2vec.Vocab at 0x7fa07b269850>,\n",
       " u'controle': <gensim.models.word2vec.Vocab at 0x7fa07cc61550>,\n",
       " u'contr\\xe1rio': <gensim.models.word2vec.Vocab at 0x7fa07d7600d0>,\n",
       " u'contudo': <gensim.models.word2vec.Vocab at 0x7fa07cb209d0>,\n",
       " u'conven\\xe7\\xe3o': <gensim.models.word2vec.Vocab at 0x7fa07c84be90>,\n",
       " u'conversa': <gensim.models.word2vec.Vocab at 0x7fa07c361f10>,\n",
       " u'conversar': <gensim.models.word2vec.Vocab at 0x7fa07d7608d0>,\n",
       " u'conversas': <gensim.models.word2vec.Vocab at 0x7fa07c515c90>,\n",
       " u'conversou': <gensim.models.word2vec.Vocab at 0x7fa07c366590>,\n",
       " u'convic\\xe7\\xe3o': <gensim.models.word2vec.Vocab at 0x7fa07c529190>,\n",
       " u'convite': <gensim.models.word2vec.Vocab at 0x7fa07c38fdd0>,\n",
       " u'conviv\\xeancia': <gensim.models.word2vec.Vocab at 0x7fa07c82c410>,\n",
       " u'coordenador': <gensim.models.word2vec.Vocab at 0x7fa07d31d050>,\n",
       " u'coordenadora': <gensim.models.word2vec.Vocab at 0x7fa07b813990>,\n",
       " u'coordenadores': <gensim.models.word2vec.Vocab at 0x7fa07c32b2d0>,\n",
       " u'coordena\\xe7\\xe3o': <gensim.models.word2vec.Vocab at 0x7fa07c532650>,\n",
       " u'copa': <gensim.models.word2vec.Vocab at 0x7fa07c3d5450>,\n",
       " u'cor': <gensim.models.word2vec.Vocab at 0x7fa07b5b55d0>,\n",
       " u'coragem': <gensim.models.word2vec.Vocab at 0x7fa07cc5dbd0>,\n",
       " u'cora\\xe7\\xe3o': <gensim.models.word2vec.Vocab at 0x7fa07cb12e90>,\n",
       " u'corinthians': <gensim.models.word2vec.Vocab at 0x7fa07b3a5c10>,\n",
       " u'coronel': <gensim.models.word2vec.Vocab at 0x7fa07b633990>,\n",
       " u'corpo': <gensim.models.word2vec.Vocab at 0x7fa07c387c90>,\n",
       " u'corpos': <gensim.models.word2vec.Vocab at 0x7fa07b55ca90>,\n",
       " u'corre': <gensim.models.word2vec.Vocab at 0x7fa07b768350>,\n",
       " u'correio': <gensim.models.word2vec.Vocab at 0x7fa07b7b7510>,\n",
       " u'correios': <gensim.models.word2vec.Vocab at 0x7fa07b57f310>,\n",
       " u'correligion\\xe1rios': <gensim.models.word2vec.Vocab at 0x7fa07d7aa250>,\n",
       " u'corrente': <gensim.models.word2vec.Vocab at 0x7fa07b4eac50>,\n",
       " u'corrida': <gensim.models.word2vec.Vocab at 0x7fa07c339290>,\n",
       " u'corrup\\xe7\\xe3o': <gensim.models.word2vec.Vocab at 0x7fa07b8cca90>,\n",
       " u'corte': <gensim.models.word2vec.Vocab at 0x7fa07b776c10>,\n",
       " u'cortejo': <gensim.models.word2vec.Vocab at 0x7fa07b8317d0>,\n",
       " u'costa': <gensim.models.word2vec.Vocab at 0x7fa07c31c210>,\n",
       " u'costuma': <gensim.models.word2vec.Vocab at 0x7fa07b842ed0>,\n",
       " u'cotado': <gensim.models.word2vec.Vocab at 0x7fa07c8290d0>,\n",
       " u'cota\\xe7\\xf5es': <gensim.models.word2vec.Vocab at 0x7fa07bf952d0>,\n",
       " u'couvert': <gensim.models.word2vec.Vocab at 0x7fa07b094d90>,\n",
       " u'cozinha': <gensim.models.word2vec.Vocab at 0x7fa07b713b90>,\n",
       " u'crato': <gensim.models.word2vec.Vocab at 0x7fa07c353d10>,\n",
       " u'credibilidade': <gensim.models.word2vec.Vocab at 0x7fa07b7ca390>,\n",
       " u'cresce': <gensim.models.word2vec.Vocab at 0x7fa07b7e1c10>,\n",
       " u'crescendo': <gensim.models.word2vec.Vocab at 0x7fa07c349f90>,\n",
       " u'crescer': <gensim.models.word2vec.Vocab at 0x7fa07cb24510>,\n",
       " u'cresceu': <gensim.models.word2vec.Vocab at 0x7fa07b6e0990>,\n",
       " u'crescimento': <gensim.models.word2vec.Vocab at 0x7fa07c53a410>,\n",
       " u'criada': <gensim.models.word2vec.Vocab at 0x7fa07b7b1690>,\n",
       " u'criado': <gensim.models.word2vec.Vocab at 0x7fa07c515a10>,\n",
       " u'crian\\xe7a': <gensim.models.word2vec.Vocab at 0x7fa07b6972d0>,\n",
       " u'crian\\xe7as': <gensim.models.word2vec.Vocab at 0x7fa07b488090>,\n",
       " u'criar': <gensim.models.word2vec.Vocab at 0x7fa07c334290>,\n",
       " u'cria\\xe7\\xe3o': <gensim.models.word2vec.Vocab at 0x7fa07b8253d0>,\n",
       " u'crime': <gensim.models.word2vec.Vocab at 0x7fa07b842850>,\n",
       " u'crimes': <gensim.models.word2vec.Vocab at 0x7fa07b63fc50>,\n",
       " u'criou': <gensim.models.word2vec.Vocab at 0x7fa07d3289d0>,\n",
       " u'crise': <gensim.models.word2vec.Vocab at 0x7fa07d32e850>,\n",
       " u'cristina': <gensim.models.word2vec.Vocab at 0x7fa07b1d4090>,\n",
       " u'criticar': <gensim.models.word2vec.Vocab at 0x7fa07c3f4f10>,\n",
       " u'criticou': <gensim.models.word2vec.Vocab at 0x7fa07cb1d610>,\n",
       " u'cruz': <gensim.models.word2vec.Vocab at 0x7fa07bfcd710>,\n",
       " u'cruz/abr': <gensim.models.word2vec.Vocab at 0x7fa07c361ed0>,\n",
       " u'cruz/abrlula': <gensim.models.word2vec.Vocab at 0x7fa07c3d57d0>,\n",
       " u'cruz/abrmarina': <gensim.models.word2vec.Vocab at 0x7fa07c361ad0>,\n",
       " u'cr\\xe9dito': <gensim.models.word2vec.Vocab at 0x7fa07d3285d0>,\n",
       " u'cr\\xedtica': <gensim.models.word2vec.Vocab at 0x7fa07b885250>,\n",
       " u'cr\\xedticas': <gensim.models.word2vec.Vocab at 0x7fa07c81f850>,\n",
       " u'cr\\xf4nica': <gensim.models.word2vec.Vocab at 0x7fa07b7f8110>,\n",
       " u'cuidar': <gensim.models.word2vec.Vocab at 0x7fa07d31d0d0>,\n",
       " u'cuja': <gensim.models.word2vec.Vocab at 0x7fa07c33d250>,\n",
       " u'cujo': <gensim.models.word2vec.Vocab at 0x7fa07c3410d0>,\n",
       " u'culpa': <gensim.models.word2vec.Vocab at 0x7fa07b87f7d0>,\n",
       " u'cultura': <gensim.models.word2vec.Vocab at 0x7fa07c0c5bd0>,\n",
       " u'culturais': <gensim.models.word2vec.Vocab at 0x7fa07b44ab90>,\n",
       " u'cultural': <gensim.models.word2vec.Vocab at 0x7fa07d760f10>,\n",
       " u'cumpre': <gensim.models.word2vec.Vocab at 0x7fa07b7f36d0>,\n",
       " u'cumprimenta': <gensim.models.word2vec.Vocab at 0x7fa07c3eec90>,\n",
       " u'cumprimento': <gensim.models.word2vec.Vocab at 0x7fa07b44a350>,\n",
       " u'cumprir': <gensim.models.word2vec.Vocab at 0x7fa07c337b90>,\n",
       " u'cumpriu': <gensim.models.word2vec.Vocab at 0x7fa07b5e4210>,\n",
       " u'cunha': <gensim.models.word2vec.Vocab at 0x7fa07cc712d0>,\n",
       " u'curitiba': <gensim.models.word2vec.Vocab at 0x7fa07c3de510>,\n",
       " u'curso': <gensim.models.word2vec.Vocab at 0x7fa07b8c7810>,\n",
       " u'cursos': <gensim.models.word2vec.Vocab at 0x7fa07b3edb50>,\n",
       " u'curto': <gensim.models.word2vec.Vocab at 0x7fa07b67dfd0>,\n",
       " u'custa': <gensim.models.word2vec.Vocab at 0x7fa07d328910>,\n",
       " u'custo': <gensim.models.word2vec.Vocab at 0x7fa07cb20490>,\n",
       " u'custos': <gensim.models.word2vec.Vocab at 0x7fa07b700a90>,\n",
       " u'c\\xe1': <gensim.models.word2vec.Vocab at 0x7fa07b85d5d0>,\n",
       " u'c\\xe1lculo': <gensim.models.word2vec.Vocab at 0x7fa07b7137d0>,\n",
       " u'c\\xe2mara': <gensim.models.word2vec.Vocab at 0x7fa07c33bf90>,\n",
       " u'c\\xe2mbio': <gensim.models.word2vec.Vocab at 0x7fa07b7ca250>,\n",
       " u'c\\xe2meras': <gensim.models.word2vec.Vocab at 0x7fa07b5453d0>,\n",
       " u'c\\xe2ncer': <gensim.models.word2vec.Vocab at 0x7fa07c5651d0>,\n",
       " u'c\\xe9u': <gensim.models.word2vec.Vocab at 0x7fa07b555850>,\n",
       " u'c\\xedcero': <gensim.models.word2vec.Vocab at 0x7fa07c3f0fd0>,\n",
       " u'c\\xf3digo': <gensim.models.word2vec.Vocab at 0x7fa07b885890>,\n",
       " u'c\\xfapula': <gensim.models.word2vec.Vocab at 0x7fa07d762d10>,\n",
       " u'd': <gensim.models.word2vec.Vocab at 0x7fa07b6a4650>,\n",
       " u'da': <gensim.models.word2vec.Vocab at 0x7fa07cb17250>,\n",
       " u'dada': <gensim.models.word2vec.Vocab at 0x7fa07d317690>,\n",
       " u'dado': <gensim.models.word2vec.Vocab at 0x7fa07c3f4610>,\n",
       " u'dados': <gensim.models.word2vec.Vocab at 0x7fa07c82b350>,\n",
       " u'dando': <gensim.models.word2vec.Vocab at 0x7fa07b8cc850>,\n",
       " u'daniel': <gensim.models.word2vec.Vocab at 0x7fa07b61a690>,\n",
       " u'dantas': <gensim.models.word2vec.Vocab at 0x7fa07b66b590>,\n",
       " u'dan\\xe7a': <gensim.models.word2vec.Vocab at 0x7fa07c3ee290>,\n",
       " u'daquele': <gensim.models.word2vec.Vocab at 0x7fa07b8c7f50>,\n",
       " u'daqueles': <gensim.models.word2vec.Vocab at 0x7fa07cc5db90>,\n",
       " u'daqui': <gensim.models.word2vec.Vocab at 0x7fa07cc71910>,\n",
       " u'dar': <gensim.models.word2vec.Vocab at 0x7fa07c334910>,\n",
       " u'dar\\xe1': <gensim.models.word2vec.Vocab at 0x7fa07b7b7850>,\n",
       " u'das': <gensim.models.word2vec.Vocab at 0x7fa07c81f5d0>,\n",
       " u'data': <gensim.models.word2vec.Vocab at 0x7fa07c82b210>,\n",
       " u'datafolha': <gensim.models.word2vec.Vocab at 0x7fa07cb12650>,\n",
       " u'davi': <gensim.models.word2vec.Vocab at 0x7fa07b3c3850>,\n",
       " u'david': <gensim.models.word2vec.Vocab at 0x7fa07c261550>,\n",
       " u'da\\xed': <gensim.models.word2vec.Vocab at 0x7fa07b825050>,\n",
       " u'de': <gensim.models.word2vec.Vocab at 0x7fa07c349710>,\n",
       " u'debate': <gensim.models.word2vec.Vocab at 0x7fa07d7821d0>,\n",
       " u'debater': <gensim.models.word2vec.Vocab at 0x7fa07c2a6fd0>,\n",
       " u'debates': <gensim.models.word2vec.Vocab at 0x7fa07d784b50>,\n",
       " u'decidir': <gensim.models.word2vec.Vocab at 0x7fa07c3f46d0>,\n",
       " u'decidiu': <gensim.models.word2vec.Vocab at 0x7fa07d762810>,\n",
       " u'decis\\xe3o': <gensim.models.word2vec.Vocab at 0x7fa07cb1bf90>,\n",
       " u'decis\\xf5es': <gensim.models.word2vec.Vocab at 0x7fa07c365050>,\n",
       " u'declarado': <gensim.models.word2vec.Vocab at 0x7fa07b805b90>,\n",
       " u'declara\\xe7\\xe3o': <gensim.models.word2vec.Vocab at 0x7fa07d32ea50>,\n",
       " u'declara\\xe7\\xf5es': <gensim.models.word2vec.Vocab at 0x7fa07cb20a50>,\n",
       " u'declarou': <gensim.models.word2vec.Vocab at 0x7fa07d32ec50>,\n",
       " u'decolou': <gensim.models.word2vec.Vocab at 0x7fa07cb42e90>,\n",
       " u'defende': <gensim.models.word2vec.Vocab at 0x7fa07cb1b1d0>,\n",
       " u'defender': <gensim.models.word2vec.Vocab at 0x7fa07c52d210>,\n",
       " u'defendeu': <gensim.models.word2vec.Vocab at 0x7fa07cb1d890>,\n",
       " u'defesa': <gensim.models.word2vec.Vocab at 0x7fa07d77da10>,\n",
       " u'defici\\xeancia': <gensim.models.word2vec.Vocab at 0x7fa07b63a8d0>,\n",
       " u'define': <gensim.models.word2vec.Vocab at 0x7fa07c829fd0>,\n",
       " u'definido': <gensim.models.word2vec.Vocab at 0x7fa07b795f50>,\n",
       " u'definir': <gensim.models.word2vec.Vocab at 0x7fa07c527410>,\n",
       " u'definiu': <gensim.models.word2vec.Vocab at 0x7fa07c38f8d0>,\n",
       " u'defini\\xe7\\xe3o': <gensim.models.word2vec.Vocab at 0x7fa07cc89790>,\n",
       " u'deixa': <gensim.models.word2vec.Vocab at 0x7fa07c8282d0>,\n",
       " u'deixam': <gensim.models.word2vec.Vocab at 0x7fa07c82b2d0>,\n",
       " u'deixando': <gensim.models.word2vec.Vocab at 0x7fa07d782f50>,\n",
       " u'deixar': <gensim.models.word2vec.Vocab at 0x7fa07c5290d0>,\n",
       " u'deixaram': <gensim.models.word2vec.Vocab at 0x7fa07b8cc310>,\n",
       " u'deixe': <gensim.models.word2vec.Vocab at 0x7fa07cb24690>,\n",
       " u'deixou': <gensim.models.word2vec.Vocab at 0x7fa07c33b050>,\n",
       " ...}"
      ]
     },
     "execution_count": 16,
     "metadata": {},
     "output_type": "execute_result"
    }
   ],
   "source": [
    "model.vocab"
   ]
  },
  {
   "cell_type": "markdown",
   "metadata": {},
   "source": [
    "##Criando Clusters de palavras usando o DPGMM"
   ]
  },
  {
   "cell_type": "code",
   "execution_count": 23,
   "metadata": {
    "collapsed": false
   },
   "outputs": [
    {
     "data": {
      "text/plain": [
       "DPGMM(alpha=1.0, covariance_type='diag', init_params='wmc', min_covar=None,\n",
       "   n_components=10, n_iter=5, params='wmc',\n",
       "   random_state=<mtrand.RandomState object at 0x7fa0bae71af8>, thresh=0.01,\n",
       "   verbose=False)"
      ]
     },
     "execution_count": 23,
     "metadata": {},
     "output_type": "execute_result"
    }
   ],
   "source": [
    "dpgmm = mixture.DPGMM(n_components=10,n_iter=5, covariance_type='diag')\n",
    "dpgmm.fit(model.syn0)"
   ]
  },
  {
   "cell_type": "code",
   "execution_count": 24,
   "metadata": {
    "collapsed": false
   },
   "outputs": [
    {
     "data": {
      "text/plain": [
       "False"
      ]
     },
     "execution_count": 24,
     "metadata": {},
     "output_type": "execute_result"
    }
   ],
   "source": [
    "dpgmm.converged_"
   ]
  },
  {
   "cell_type": "code",
   "execution_count": 25,
   "metadata": {
    "collapsed": false
   },
   "outputs": [
    {
     "data": {
      "image/png": "[encoded data removed]",
      "text/plain": [
       "<matplotlib.figure.Figure at 0x7fa07c3d5a10>"
      ]
     },
     "metadata": {},
     "output_type": "display_data"
    }
   ],
   "source": [
    "plot(dpgmm.predict(model.syn0));"
   ]
  },
  {
   "cell_type": "code",
   "execution_count": 26,
   "metadata": {
    "collapsed": false
   },
   "outputs": [
    {
     "name": "stdout",
     "output_type": "stream",
     "text": [
      "(10, 5000)\n"
     ]
    },
    {
     "data": {
      "image/png": "[encoded data removed]",
      "text/plain": [
       "<matplotlib.figure.Figure at 0x7fa07c3f0550>"
      ]
     },
     "metadata": {},
     "output_type": "display_data"
    }
   ],
   "source": [
    "print dpgmm.means_.shape\n",
    "plot(dpgmm.means_.T);"
   ]
  },
  {
   "cell_type": "markdown",
   "metadata": {},
   "source": [
    "## Agora com o GMM"
   ]
  },
  {
   "cell_type": "code",
   "execution_count": 27,
   "metadata": {
    "collapsed": false
   },
   "outputs": [
    {
     "data": {
      "text/plain": [
       "GMM(covariance_type='diag', init_params='wmc', min_covar=0.001,\n",
       "  n_components=3, n_init=1, n_iter=100, params='wmc', random_state=None,\n",
       "  thresh=0.01)"
      ]
     },
     "execution_count": 27,
     "metadata": {},
     "output_type": "execute_result"
    }
   ],
   "source": [
    "gmm = mixture.GMM(n_components=3, covariance_type='diag')\n",
    "gmm.fit(model.syn0)"
   ]
  },
  {
   "cell_type": "code",
   "execution_count": 28,
   "metadata": {
    "collapsed": false
   },
   "outputs": [
    {
     "name": "stdout",
     "output_type": "stream",
     "text": [
      "(3, 5000)\n"
     ]
    },
    {
     "data": {
      "image/png": "[encoded data removed]",
      "text/plain": [
       "<matplotlib.figure.Figure at 0x7fa07c333290>"
      ]
     },
     "metadata": {},
     "output_type": "display_data"
    }
   ],
   "source": [
    "print gmm.means_.shape\n",
    "plot(gmm.means_.T);"
   ]
  },
  {
   "cell_type": "code",
   "execution_count": 21,
   "metadata": {
    "collapsed": false
   },
   "outputs": [
    {
     "data": {
      "image/png": "[encoded data removed]",
      "text/plain": [
       "<matplotlib.figure.Figure at 0x7fa07b4b84d0>"
      ]
     },
     "metadata": {},
     "output_type": "display_data"
    }
   ],
   "source": [
    "plot(gmm.predict(model.syn0));"
   ]
  },
  {
   "cell_type": "code",
   "execution_count": 22,
   "metadata": {
    "collapsed": false
   },
   "outputs": [
    {
     "data": {
      "text/plain": [
       "True"
      ]
     },
     "execution_count": 22,
     "metadata": {},
     "output_type": "execute_result"
    }
   ],
   "source": [
    "gmm.converged_"
   ]
  },
  {
   "cell_type": "code",
   "execution_count": 18,
   "metadata": {
    "collapsed": false
   },
   "outputs": [],
   "source": [
    "mixture.GMM?"
   ]
  },
  {
   "cell_type": "markdown",
   "metadata": {},
   "source": [
    "## Usando o SKlearn para extração de Features"
   ]
  },
  {
   "cell_type": "code",
   "execution_count": 37,
   "metadata": {
    "collapsed": false
   },
   "outputs": [],
   "source": [
    "from __future__ import print_function\n",
    "\n",
    "from pprint import pprint\n",
    "from time import time\n",
    "from sklearn.decomposition import TruncatedSVD\n",
    "from sklearn.feature_extraction.text import TfidfVectorizer\n",
    "from sklearn.feature_extraction.text import HashingVectorizer\n",
    "from sklearn.feature_extraction.text import TfidfTransformer\n",
    "from sklearn.pipeline import make_pipeline\n",
    "from sklearn.preprocessing import Normalizer\n",
    "from sklearn import metrics\n",
    "\n",
    "from sklearn.cluster import KMeans, MiniBatchKMeans\n"
   ]
  },
  {
   "cell_type": "code",
   "execution_count": 67,
   "metadata": {
    "collapsed": false
   },
   "outputs": [
    {
     "name": "stdout",
     "output_type": "stream",
     "text": [
      "done in 29.694485s\n",
      "n_samples: 6615, n_features: 10000\n",
      "\n"
     ]
    }
   ],
   "source": [
    "t0 = time()\n",
    "hasher = HashingVectorizer(n_features=10000,\n",
    "                                   stop_words=sw, non_negative=True,\n",
    "                                   norm=None, binary=False)\n",
    "vectorizer = make_pipeline(hasher, TfidfTransformer())\n",
    "\n",
    "X = vectorizer.fit_transform(docs)\n",
    "print(\"done in %fs\" % (time() - t0))\n",
    "print(\"n_samples: %d, n_features: %d\" % X.shape)\n",
    "print()"
   ]
  },
  {
   "cell_type": "code",
   "execution_count": 77,
   "metadata": {
    "collapsed": false
   },
   "outputs": [],
   "source": [
    "n_clusters = 3\n",
    "dpgmm = mixture.DPGMM(covariance_type='diag')\n",
    "km = KMeans(n_clusters=n_clusters, init='k-means++', max_iter=100, n_init=1,\n",
    "                verbose=True, n_jobs=8)\n",
    "#dpgmm.fit(X)"
   ]
  },
  {
   "cell_type": "code",
   "execution_count": 78,
   "metadata": {
    "collapsed": false
   },
   "outputs": [
    {
     "name": "stdout",
     "output_type": "stream",
     "text": [
      "Clustering sparse data with KMeans(copy_x=True, init='k-means++', max_iter=100, n_clusters=3, n_init=1,\n",
      "    n_jobs=8, precompute_distances=True, random_state=None, tol=0.0001,\n",
      "    verbose=True)\n",
      "done in 0.395s\n",
      "\n",
      "Top terms per cluster:\n",
      "Initialization complete\n",
      "Iteration  0, inertia 5680.000\n",
      "Iteration  1, inertia 5610.934\n",
      "Converged at iteration 1\n"
     ]
    }
   ],
   "source": [
    "labels = range(X.shape[0]-1)\n",
    "print(\"Clustering sparse data with %s\" % km)\n",
    "t0 = time()\n",
    "km.fit(X)\n",
    "print(\"done in %0.3fs\" % (time() - t0))\n",
    "print()\n",
    "print(\"Top terms per cluster:\")\n",
    "order_centroids = km.cluster_centers_.argsort()[:, ::-1]\n"
   ]
  },
  {
   "cell_type": "code",
   "execution_count": 91,
   "metadata": {
    "collapsed": false
   },
   "outputs": [
    {
     "data": {
      "text/plain": [
       "<matplotlib.figure.Figure at 0x7fa07c9248d0>"
      ]
     },
     "metadata": {},
     "output_type": "display_data"
    }
   ],
   "source": [
    "k_means_labels = km.labels_\n",
    "k_means_cluster_centers = km.cluster_centers_\n",
    "k_means_labels_unique = np.unique(k_means_labels)\n",
    "# KMeans\n",
    "colors = ['#4EACC5', '#FF9C34', '#4E9A06']\n",
    "for k, col in zip(range(n_clusters), colors):\n",
    "    my_members = k_means_labels == k\n",
    "    cluster_center = k_means_cluster_centers[k]\n",
    "    #plot(X[my_members, 0], X[my_members, 1], 'w', markerfacecolor=col, marker='.')\n",
    "    plot(cluster_center[0], cluster_center[1], 'o', markerfacecolor=col, markeredgecolor='k', markersize=6)\n",
    "title('KMeans')\n",
    "#set_xticks(())\n",
    "#set_yticks(())\n",
    "pylab.text(-3.5, 1.8,  'inertia: %f' % (km.inertia_));"
   ]
  },
  {
   "cell_type": "code",
   "execution_count": 45,
   "metadata": {
    "collapsed": false
   },
   "outputs": [],
   "source": [
    "mixture.DPGMM?"
   ]
  },
  {
   "cell_type": "code",
   "execution_count": 47,
   "metadata": {
    "collapsed": false
   },
   "outputs": [
    {
     "data": {
      "text/plain": [
       "(6615, 10000)"
      ]
     },
     "execution_count": 47,
     "metadata": {},
     "output_type": "execute_result"
    }
   ],
   "source": [
    "X.shape"
   ]
  },
  {
   "cell_type": "code",
   "execution_count": 73,
   "metadata": {
    "collapsed": false
   },
   "outputs": [
    {
     "data": {
      "text/plain": [
       "array([0, 0, 0, ..., 1, 1, 1], dtype=int32)"
      ]
     },
     "execution_count": 73,
     "metadata": {},
     "output_type": "execute_result"
    }
   ],
   "source": []
  },
  {
   "cell_type": "code",
   "execution_count": null,
   "metadata": {
    "collapsed": false
   },
   "outputs": [],
   "source": []
  }
 ],
 "metadata": {
  "kernelspec": {
   "display_name": "Python 3",
   "language": "python",
   "name": "python3"
  },
  "language_info": {
   "name": "python",
   "version": "3.5.1"
  }
 },
 "nbformat": 4,
 "nbformat_minor": 0
}
