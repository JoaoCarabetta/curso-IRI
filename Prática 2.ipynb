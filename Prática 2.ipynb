{
 "metadata": {
  "name": "",
  "signature": "sha256:6a1a9789c5551b7ca5ecb4dbf7cadb9482d729adaf8075996a215b42731a94f3"
 },
 "nbformat": 3,
 "nbformat_minor": 0,
 "worksheets": [
  {
   "cells": [
    {
     "cell_type": "markdown",
     "metadata": {},
     "source": [
      "#Similaridade por Cosseno\n",
      "\n",
      "Neste documento, vamos explorar o conceito de similaridade de documentos por cosseno."
     ]
    },
    {
     "cell_type": "code",
     "collapsed": false,
     "input": [
      "from nltk.corpus import machado\n",
      "from nltk.tokenize import WordPunctTokenizer\n",
      "from nltk.corpus import stopwords\n",
      "import string\n",
      "from collections import defaultdict\n",
      "from nltk.stem.snowball import PortugueseStemmer\n",
      "import nltk\n",
      "import numpy as np"
     ],
     "language": "python",
     "metadata": {},
     "outputs": [],
     "prompt_number": 16
    },
    {
     "cell_type": "markdown",
     "metadata": {},
     "source": [
      "Vamos come\u00e7ar importando os textos de Machado de Assis"
     ]
    },
    {
     "cell_type": "code",
     "collapsed": false,
     "input": [
      "textos = [machado.raw(id) for id in machado.fileids()]\n",
      "len(textos)"
     ],
     "language": "python",
     "metadata": {},
     "outputs": [
      {
       "metadata": {},
       "output_type": "pyout",
       "prompt_number": 2,
       "text": [
        "246"
       ]
      }
     ],
     "prompt_number": 2
    },
    {
     "cell_type": "code",
     "collapsed": false,
     "input": [
      "tok_textos = [WordPunctTokenizer().tokenize(t) for t in textos]"
     ],
     "language": "python",
     "metadata": {},
     "outputs": [],
     "prompt_number": 11
    },
    {
     "cell_type": "markdown",
     "metadata": {},
     "source": [
      "Depois de tokenizar, vamos extrair o vocabul\u00e1rio dos textos"
     ]
    },
    {
     "cell_type": "code",
     "collapsed": false,
     "input": [
      "vocab = []\n",
      "for t in tok_textos:\n",
      "    vocab += list(set(t))\n",
      "\n",
      "vocab = list(set(vocab))\n",
      "print(len(vocab))\n",
      "vocab[:3]"
     ],
     "language": "python",
     "metadata": {},
     "outputs": [
      {
       "output_type": "stream",
       "stream": "stdout",
       "text": [
        "79461\n"
       ]
      },
      {
       "metadata": {},
       "output_type": "pyout",
       "prompt_number": 12,
       "text": [
        "[u'Semeei', u'obrigaria', u'arrulhou']"
       ]
      }
     ],
     "prompt_number": 12
    },
    {
     "cell_type": "code",
     "collapsed": false,
     "input": [
      "T = nltk.TextCollection(tok_textos)"
     ],
     "language": "python",
     "metadata": {},
     "outputs": [],
     "prompt_number": 13
    },
    {
     "cell_type": "code",
     "collapsed": false,
     "input": [
      "q = \"Lamartine elixir harpa\"\n",
      "qt = WordPunctTokenizer().tokenize(q)"
     ],
     "language": "python",
     "metadata": {},
     "outputs": [],
     "prompt_number": 14
    },
    {
     "cell_type": "code",
     "collapsed": false,
     "input": [
      "tfidf_matrix = np.zeros((len(tok_textos),len(qt)))\n",
      "for j,w in enumerate(qt):\n",
      "    for i, d in enumerate(tok_textos):\n",
      "        tfidf_matrix[i,j] = T.tf_idf(w,d)"
     ],
     "language": "python",
     "metadata": {},
     "outputs": [
      {
       "ename": "NameError",
       "evalue": "name 'np' is not defined",
       "output_type": "pyerr",
       "traceback": [
        "\u001b[1;31m---------------------------------------------------------------------------\u001b[0m\n\u001b[1;31mNameError\u001b[0m                                 Traceback (most recent call last)",
        "\u001b[1;32m<ipython-input-15-3b9e58369710>\u001b[0m in \u001b[0;36m<module>\u001b[1;34m()\u001b[0m\n\u001b[1;32m----> 1\u001b[1;33m \u001b[0mtfidf_matrix\u001b[0m \u001b[1;33m=\u001b[0m \u001b[0mnp\u001b[0m\u001b[1;33m.\u001b[0m\u001b[0mzeros\u001b[0m\u001b[1;33m(\u001b[0m\u001b[1;33m(\u001b[0m\u001b[0mlen\u001b[0m\u001b[1;33m(\u001b[0m\u001b[0mtok_textos\u001b[0m\u001b[1;33m)\u001b[0m\u001b[1;33m,\u001b[0m\u001b[0mlen\u001b[0m\u001b[1;33m(\u001b[0m\u001b[0mqt\u001b[0m\u001b[1;33m)\u001b[0m\u001b[1;33m)\u001b[0m\u001b[1;33m)\u001b[0m\u001b[1;33m\u001b[0m\u001b[0m\n\u001b[0m\u001b[0;32m      2\u001b[0m \u001b[1;32mfor\u001b[0m \u001b[0mj\u001b[0m\u001b[1;33m,\u001b[0m\u001b[0mw\u001b[0m \u001b[1;32min\u001b[0m \u001b[0menumerate\u001b[0m\u001b[1;33m(\u001b[0m\u001b[0mqt\u001b[0m\u001b[1;33m)\u001b[0m\u001b[1;33m:\u001b[0m\u001b[1;33m\u001b[0m\u001b[0m\n\u001b[0;32m      3\u001b[0m     \u001b[1;32mfor\u001b[0m \u001b[0mi\u001b[0m\u001b[1;33m,\u001b[0m \u001b[0md\u001b[0m \u001b[1;32min\u001b[0m \u001b[0menumerate\u001b[0m\u001b[1;33m(\u001b[0m\u001b[0mtok_textos\u001b[0m\u001b[1;33m)\u001b[0m\u001b[1;33m:\u001b[0m\u001b[1;33m\u001b[0m\u001b[0m\n\u001b[0;32m      4\u001b[0m         \u001b[0mtfidf_matrix\u001b[0m\u001b[1;33m[\u001b[0m\u001b[0mi\u001b[0m\u001b[1;33m,\u001b[0m\u001b[0mj\u001b[0m\u001b[1;33m]\u001b[0m \u001b[1;33m=\u001b[0m \u001b[0mT\u001b[0m\u001b[1;33m.\u001b[0m\u001b[0mtf_idf\u001b[0m\u001b[1;33m(\u001b[0m\u001b[0mw\u001b[0m\u001b[1;33m,\u001b[0m\u001b[0md\u001b[0m\u001b[1;33m)\u001b[0m\u001b[1;33m\u001b[0m\u001b[0m\n",
        "\u001b[1;31mNameError\u001b[0m: name 'np' is not defined"
       ]
      }
     ],
     "prompt_number": 15
    },
    {
     "cell_type": "code",
     "collapsed": false,
     "input": [
      "from numpy.linalg import norm\n",
      "MN = array([r/norm(r) if norm(r) !=0 else np.zeros(len(r)) for r in tfidf_matrix])\n",
      "def rank(q):\n",
      "    return [np.dot(q,r) for r in MN]\n",
      "qv = np.array([T.tf_idf(w,qt) for w in qt])\n",
      "qv /= norm(qv)\n",
      "r = rank(qv)\n",
      "v=zip(r,range(len(tok_textos)))\n",
      "sorted(v) \n",
      "        "
     ],
     "language": "python",
     "metadata": {},
     "outputs": [
      {
       "metadata": {},
       "output_type": "pyout",
       "prompt_number": 20,
       "text": [
        "[(0.0, 1),\n",
        " (0.0, 2),\n",
        " (0.0, 3),\n",
        " (0.0, 5),\n",
        " (0.0, 6),\n",
        " (0.0, 7),\n",
        " (0.0, 8),\n",
        " (0.0, 9),\n",
        " (0.0, 10),\n",
        " (0.0, 11),\n",
        " (0.0, 12),\n",
        " (0.0, 13),\n",
        " (0.0, 14),\n",
        " (0.0, 15),\n",
        " (0.0, 17),\n",
        " (0.0, 18),\n",
        " (0.0, 19),\n",
        " (0.0, 20),\n",
        " (0.0, 21),\n",
        " (0.0, 22),\n",
        " (0.0, 23),\n",
        " (0.0, 24),\n",
        " (0.0, 25),\n",
        " (0.0, 26),\n",
        " (0.0, 27),\n",
        " (0.0, 28),\n",
        " (0.0, 29),\n",
        " (0.0, 30),\n",
        " (0.0, 31),\n",
        " (0.0, 32),\n",
        " (0.0, 33),\n",
        " (0.0, 34),\n",
        " (0.0, 35),\n",
        " (0.0, 36),\n",
        " (0.0, 37),\n",
        " (0.0, 38),\n",
        " (0.0, 39),\n",
        " (0.0, 40),\n",
        " (0.0, 42),\n",
        " (0.0, 43),\n",
        " (0.0, 44),\n",
        " (0.0, 45),\n",
        " (0.0, 46),\n",
        " (0.0, 47),\n",
        " (0.0, 48),\n",
        " (0.0, 49),\n",
        " (0.0, 50),\n",
        " (0.0, 51),\n",
        " (0.0, 52),\n",
        " (0.0, 53),\n",
        " (0.0, 54),\n",
        " (0.0, 55),\n",
        " (0.0, 56),\n",
        " (0.0, 57),\n",
        " (0.0, 58),\n",
        " (0.0, 59),\n",
        " (0.0, 60),\n",
        " (0.0, 61),\n",
        " (0.0, 62),\n",
        " (0.0, 63),\n",
        " (0.0, 64),\n",
        " (0.0, 65),\n",
        " (0.0, 66),\n",
        " (0.0, 67),\n",
        " (0.0, 68),\n",
        " (0.0, 69),\n",
        " (0.0, 70),\n",
        " (0.0, 71),\n",
        " (0.0, 72),\n",
        " (0.0, 73),\n",
        " (0.0, 74),\n",
        " (0.0, 75),\n",
        " (0.0, 76),\n",
        " (0.0, 77),\n",
        " (0.0, 78),\n",
        " (0.0, 79),\n",
        " (0.0, 81),\n",
        " (0.0, 82),\n",
        " (0.0, 83),\n",
        " (0.0, 84),\n",
        " (0.0, 86),\n",
        " (0.0, 87),\n",
        " (0.0, 88),\n",
        " (0.0, 89),\n",
        " (0.0, 90),\n",
        " (0.0, 91),\n",
        " (0.0, 92),\n",
        " (0.0, 93),\n",
        " (0.0, 94),\n",
        " (0.0, 95),\n",
        " (0.0, 96),\n",
        " (0.0, 97),\n",
        " (0.0, 98),\n",
        " (0.0, 99),\n",
        " (0.0, 100),\n",
        " (0.0, 101),\n",
        " (0.0, 102),\n",
        " (0.0, 103),\n",
        " (0.0, 104),\n",
        " (0.0, 105),\n",
        " (0.0, 106),\n",
        " (0.0, 107),\n",
        " (0.0, 108),\n",
        " (0.0, 109),\n",
        " (0.0, 110),\n",
        " (0.0, 111),\n",
        " (0.0, 112),\n",
        " (0.0, 113),\n",
        " (0.0, 114),\n",
        " (0.0, 115),\n",
        " (0.0, 116),\n",
        " (0.0, 117),\n",
        " (0.0, 118),\n",
        " (0.0, 119),\n",
        " (0.0, 120),\n",
        " (0.0, 121),\n",
        " (0.0, 122),\n",
        " (0.0, 123),\n",
        " (0.0, 124),\n",
        " (0.0, 126),\n",
        " (0.0, 127),\n",
        " (0.0, 128),\n",
        " (0.0, 129),\n",
        " (0.0, 130),\n",
        " (0.0, 131),\n",
        " (0.0, 132),\n",
        " (0.0, 133),\n",
        " (0.0, 134),\n",
        " (0.0, 135),\n",
        " (0.0, 136),\n",
        " (0.0, 137),\n",
        " (0.0, 140),\n",
        " (0.0, 141),\n",
        " (0.0, 142),\n",
        " (0.0, 143),\n",
        " (0.0, 144),\n",
        " (0.0, 145),\n",
        " (0.0, 146),\n",
        " (0.0, 147),\n",
        " (0.0, 148),\n",
        " (0.0, 149),\n",
        " (0.0, 150),\n",
        " (0.0, 151),\n",
        " (0.0, 153),\n",
        " (0.0, 154),\n",
        " (0.0, 155),\n",
        " (0.0, 156),\n",
        " (0.0, 157),\n",
        " (0.0, 158),\n",
        " (0.0, 159),\n",
        " (0.0, 160),\n",
        " (0.0, 161),\n",
        " (0.0, 162),\n",
        " (0.0, 163),\n",
        " (0.0, 164),\n",
        " (0.0, 165),\n",
        " (0.0, 166),\n",
        " (0.0, 167),\n",
        " (0.0, 168),\n",
        " (0.0, 169),\n",
        " (0.0, 170),\n",
        " (0.0, 171),\n",
        " (0.0, 172),\n",
        " (0.0, 173),\n",
        " (0.0, 174),\n",
        " (0.0, 175),\n",
        " (0.0, 177),\n",
        " (0.0, 178),\n",
        " (0.0, 179),\n",
        " (0.0, 180),\n",
        " (0.0, 181),\n",
        " (0.0, 182),\n",
        " (0.0, 183),\n",
        " (0.0, 184),\n",
        " (0.0, 187),\n",
        " (0.0, 188),\n",
        " (0.0, 189),\n",
        " (0.0, 190),\n",
        " (0.0, 191),\n",
        " (0.0, 192),\n",
        " (0.0, 195),\n",
        " (0.0, 196),\n",
        " (0.0, 197),\n",
        " (0.0, 198),\n",
        " (0.0, 199),\n",
        " (0.0, 200),\n",
        " (0.0, 201),\n",
        " (0.0, 202),\n",
        " (0.0, 203),\n",
        " (0.0, 204),\n",
        " (0.0, 205),\n",
        " (0.0, 206),\n",
        " (0.0, 207),\n",
        " (0.0, 208),\n",
        " (0.0, 209),\n",
        " (0.0, 210),\n",
        " (0.0, 211),\n",
        " (0.0, 212),\n",
        " (0.0, 213),\n",
        " (0.0, 214),\n",
        " (0.0, 215),\n",
        " (0.0, 219),\n",
        " (0.0, 220),\n",
        " (0.0, 221),\n",
        " (0.0, 223),\n",
        " (0.0, 224),\n",
        " (0.0, 225),\n",
        " (0.0, 226),\n",
        " (0.0, 227),\n",
        " (0.0, 228),\n",
        " (0.0, 230),\n",
        " (0.0, 231),\n",
        " (0.0, 233),\n",
        " (0.0, 234),\n",
        " (0.0, 235),\n",
        " (0.0, 236),\n",
        " (0.0, 237),\n",
        " (0.0, 239),\n",
        " (0.0, 241),\n",
        " (0.0, 242),\n",
        " (0.0, 243),\n",
        " (0.0, 244),\n",
        " (0.0, 245),\n",
        " (0.54677079862588274, 16),\n",
        " (0.54677079862588274, 125),\n",
        " (0.54677079862588274, 152),\n",
        " (0.54677079862588274, 176),\n",
        " (0.54677079862588274, 194),\n",
        " (0.54677079862588274, 232),\n",
        " (0.5625219865810609, 80),\n",
        " (0.5625219865810609, 139),\n",
        " (0.5625219865810609, 186),\n",
        " (0.5625219865810609, 216),\n",
        " (0.5625219865810609, 218),\n",
        " (0.5625219865810609, 240),\n",
        " (0.62016990283543361, 41),\n",
        " (0.62016990283543361, 85),\n",
        " (0.62016990283543361, 138),\n",
        " (0.62016990283543361, 229),\n",
        " (0.62016990283543361, 238),\n",
        " (0.63237752564977234, 222),\n",
        " (0.66076127296622689, 193),\n",
        " (0.78446752107215301, 4),\n",
        " (0.78446752107215301, 217),\n",
        " (0.94313934844743286, 185),\n",
        " (0.94345623925738287, 0)]"
       ]
      }
     ],
     "prompt_number": 20
    },
    {
     "cell_type": "code",
     "collapsed": false,
     "input": [
      "'toca' in tok_textos[184]"
     ],
     "language": "python",
     "metadata": {},
     "outputs": [
      {
       "metadata": {},
       "output_type": "pyout",
       "prompt_number": 14,
       "text": [
        "False"
       ]
      }
     ],
     "prompt_number": 14
    },
    {
     "cell_type": "code",
     "collapsed": false,
     "input": [
      "fd=nltk.FreqDist(WordPunctTokenizer().tokenize(textos[0]))\n",
      "fd['Lamartine']"
     ],
     "language": "python",
     "metadata": {},
     "outputs": [
      {
       "metadata": {},
       "output_type": "pyout",
       "prompt_number": 25,
       "text": [
        "1"
       ]
      }
     ],
     "prompt_number": 25
    },
    {
     "cell_type": "code",
     "collapsed": false,
     "input": [
      "T.tf(\"Lamartine\",WordPunctTokenizer().tokenize(textos[0]))"
     ],
     "language": "python",
     "metadata": {},
     "outputs": [
      {
       "metadata": {},
       "output_type": "pyout",
       "prompt_number": 38,
       "text": [
        "1.4383729125613106e-05"
       ]
      }
     ],
     "prompt_number": 38
    },
    {
     "cell_type": "code",
     "collapsed": false,
     "input": [
      "1./len(WordPunctTokenizer().tokenize(textos[0]))"
     ],
     "language": "python",
     "metadata": {},
     "outputs": [
      {
       "metadata": {},
       "output_type": "pyout",
       "prompt_number": 40,
       "text": [
        "1.4383729125613106e-05"
       ]
      }
     ],
     "prompt_number": 40
    },
    {
     "cell_type": "code",
     "collapsed": false,
     "input": [
      "nltk.TextCollection??"
     ],
     "language": "python",
     "metadata": {},
     "outputs": [],
     "prompt_number": 42
    },
    {
     "cell_type": "code",
     "collapsed": false,
     "input": [
      "nltk.LazyConcatenation??"
     ],
     "language": "python",
     "metadata": {},
     "outputs": [],
     "prompt_number": 44
    },
    {
     "cell_type": "code",
     "collapsed": false,
     "input": [
      "T.concordance('Harpa')"
     ],
     "language": "python",
     "metadata": {},
     "outputs": [
      {
       "output_type": "stream",
       "stream": "stdout",
       "text": [
        "Building index...\n",
        "Displaying 22 of 22 matches:"
       ]
      },
      {
       "output_type": "stream",
       "stream": "stdout",
       "text": [
        "\n",
        ". A sua fala deve ser um murm\u00fario de harpa e\u00f3lia ; o seu amor um desmaio , a su\n",
        "a , porque era insigne na viola e na harpa , n\u00e3o menos que na teologia . Consul\n",
        "oloncelo ; se for menina , aprender\u00e1 harpa . S\u00e3o os \u00fanicos instrumentos capazes\n",
        "e , mais ainda , um duo admir\u00e1vel de harpa e contrabaixo . Este instrumento foi\n",
        "s amigos ; outra que toma por t\u00edtulo Harpa Brasileira , onde est\u00e3o as poesias A\n",
        "or ele ao nosso idioma . Abro m\u00e3o da Harpa de Moore ; mas os Mortos de cora\u00e7\u00e3o \n",
        "essa classifica\u00e7\u00e3o entre homens . Na Harpa Brasileira encontramos uma parte des\n",
        "ram os coros da pe\u00e7a . Acompanhou na harpa o duo de Elvira e Carlos V a Sra . D\n",
        "lancolicamente a corda harmoniosa da harpa inspirada do Virg\u00edlio crist\u00e3o ! Os a\n",
        " pendurei nos ramos dos salgueiros a harpa das minhas mais caras ilus\u00f5es , mas \n",
        "vas e do mar . AS BRISAS Deu - nos a harpa e\u00f3lia a excelsa melodia Que a folhag\n",
        "rmonia , Ao p\u00e9 da tua voz , filha da harpa do amor ? Diz - nos tu como houveste\n",
        "Fala aos ecos da espessura A chorosa harpa do vento , E num canto sonolento Ent\n",
        "rar , n\u00e3o viu pousar calada , Como a harpa dos \u00eaxules profetas , A her\u00f3ica tuba\n",
        "ristes , Nas d\u00e9beis cordas de minh \u0092 harpa d\u00e9bil ?!... Doce chama me ateias den\n",
        "e sinto ao escutar - te as notas d ' harpa ! A UMA MENINA [ 48 ] La esencia de \n",
        "harmonia Em teus sonoros carmes ! Na harpa d ' ouro Do sacro Apollo , Trovador \n",
        ", quem soubera Imitar de teu peito \u0097 harpa celeste - O meigo som , para louvar \n",
        "\u00e3o a irm\u00e3o ! Aos sons acordes da tua harpa ardente Venho juntar uma can\u00e7\u00e3o saud\n",
        "emos pois ! Meu t\u00edmido ala\u00fade Da tua harpa unirei \u00e0 nota ardente Em uma s\u00f3 can\u00e7\n",
        "os destinos , Imprimiu - te na voz a harpa de um s\u00e9culo E a alma te encarnou em\n",
        "nia ... \u00c0 Babil\u00f4nia melhor ; levai a harpa do desterro , mas em vez de a pendur\n"
       ]
      }
     ],
     "prompt_number": 48
    },
    {
     "cell_type": "code",
     "collapsed": false,
     "input": [],
     "language": "python",
     "metadata": {},
     "outputs": []
    }
   ],
   "metadata": {}
  }
 ]
}